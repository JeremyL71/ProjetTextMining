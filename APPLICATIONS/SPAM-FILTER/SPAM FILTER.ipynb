{
 "cells": [
  {
   "cell_type": "markdown",
   "metadata": {
    "slideshow": {
     "slide_type": "slide"
    }
   },
   "source": [
    "# Détection (Supervisée) de SPAM \n",
    "\n",
    "### Par LAURENT Jérémy"
   ]
  },
  {
   "cell_type": "markdown",
   "metadata": {
    "slideshow": {
     "slide_type": "slide"
    }
   },
   "source": [
    "Ce document s'inscrit dans le périmètre du projet tutoré de l'un des groupes de la classe d'Année Spéciale de l'IUT Informatique LYON 1.\n",
    "Réunissant :\n",
    "- DUFOUR Alexandre\n",
    "- FERRAND Gérome\n",
    "- LAURENT Jeremy\n",
    "- MOUSSU Nathan\n",
    "- VATON Juliette\n",
    "\n",
    "Ce groupe était placé sous le tutorat de M. VIDAL VINCENT.\n",
    "\n",
    "Ce document représente les travaux de **Jérémy LAURENT**, au sujet d'un programme de **catégorisation de texte**.\n",
    "\n",
    "A terme, le code inscrit dans ce document sera ré-employé dans un programme plus conséquent, réunissant les applications suivantes :\n",
    "- Moteur de recherche (affecté à DUFOUR Alexandre)\n",
    "- Détecteur de spams (affecté à LAURENT Jérémy)\n",
    "- Analyseur d'opinion (affecté à VATON Juliette)\n",
    "- Catégorisation de texte (affecté à FERRAND Gérome)\n",
    "\n",
    "## Notre OBJECTIF :\n",
    "\n",
    "Le but de cette application est d'associer automatiquement des labels prédéfinis à des textes.<br>\n",
    "Tout au long de ce document, nous allons tenter de mettre en place un programme d'apprentissage automatique, composé de différent classifier. Dans un second temps, nous allons essayer de l'optimiser au maximum, tout en faisant attention de conserver un équilibre entre over- et under- fiting..\n",
    "\n",
    "## A propos du DATASET :\n",
    "Il s'agit d'un dataset très utilisé sur internet. Voici le lien:\n",
    "https://www.kaggle.com/uciml/sms-spam-collection-dataset\n",
    "\n",
    "## Plan du document :\n",
    "\n",
    "1. **Chargement et observation de la composition du dataset**\n",
    "1. ** Pré-traitage du procédé**\n"
   ]
  },
  {
   "cell_type": "markdown",
   "metadata": {
    "slideshow": {
     "slide_type": "slide"
    }
   },
   "source": [
    "## 1.Chargement des bibliothèques et du Dataset"
   ]
  },
  {
   "cell_type": "code",
   "execution_count": 1,
   "metadata": {
    "slideshow": {
     "slide_type": "slide"
    }
   },
   "outputs": [
    {
     "name": "stdout",
     "output_type": "stream",
     "text": [
      "Python: 3.6.5 |Anaconda, Inc.| (default, Mar 29 2018, 13:32:41) [MSC v.1900 64 bit (AMD64)]\n",
      "NLTK: 3.3\n",
      "Scikit-learn: 0.19.1\n",
      "Pandas: 0.23.0\n",
      "Numpy: 1.14.3\n"
     ]
    }
   ],
   "source": [
    "import sys\n",
    "import nltk\n",
    "import sklearn\n",
    "import pandas\n",
    "import numpy\n",
    "import matplotlib.pyplot as plt\n",
    "import pylab\n",
    "\n",
    "#Importation de Scikit-learn\n",
    "from nltk.classify.scikitlearn import SklearnClassifier\n",
    "from sklearn.svm import SVC\n",
    "from sklearn.neighbors import KNeighborsClassifier\n",
    "from sklearn.tree import DecisionTreeClassifier\n",
    "from sklearn.ensemble import RandomForestClassifier\n",
    "from sklearn.linear_model import LogisticRegression, SGDClassifier\n",
    "from sklearn.naive_bayes import MultinomialNB\n",
    "from sklearn.svm import SVC\n",
    "from sklearn.metrics import classification_report, accuracy_score, confusion_matrix\n",
    "from sklearn.ensemble import VotingClassifier\n",
    "\n",
    "import pandas as pd\n",
    "import numpy as np\n",
    "\n",
    "from nltk.corpus import stopwords\n",
    "from nltk.tokenize import word_tokenize\n",
    "\n",
    "# Affichage des versions des bibliothèques\n",
    "print('Python: {}'.format(sys.version))\n",
    "print('NLTK: {}'.format(nltk.__version__))\n",
    "print('Scikit-learn: {}'.format(sklearn.__version__))\n",
    "print('Pandas: {}'.format(pandas.__version__))\n",
    "print('Numpy: {}'.format(numpy.__version__))"
   ]
  },
  {
   "cell_type": "code",
   "execution_count": 2,
   "metadata": {
    "slideshow": {
     "slide_type": "slide"
    }
   },
   "outputs": [
    {
     "name": "stdout",
     "output_type": "stream",
     "text": [
      "<class 'pandas.core.frame.DataFrame'>\n",
      "RangeIndex: 5572 entries, 0 to 5571\n",
      "Data columns (total 2 columns):\n",
      "0    5572 non-null object\n",
      "1    5572 non-null object\n",
      "dtypes: object(2)\n",
      "memory usage: 87.1+ KB\n",
      "None\n",
      "      0                                                  1\n",
      "0   ham  Go until jurong point, crazy.. Available only ...\n",
      "1   ham                      Ok lar... Joking wif u oni...\n",
      "2  spam  Free entry in 2 a wkly comp to win FA Cup fina...\n",
      "3   ham  U dun say so early hor... U c already then say...\n",
      "4   ham  Nah I don't think he goes to usf, he lives aro...\n"
     ]
    }
   ],
   "source": [
    "# Chargement des messages types SMS\n",
    "df = pd.read_table('SMSSPamCollection', header=None, encoding='utf-8')\n",
    "# Affichage des infos concernant le dataset\n",
    "print(df.info())\n",
    "print(df.head())"
   ]
  },
  {
   "cell_type": "code",
   "execution_count": 3,
   "metadata": {
    "slideshow": {
     "slide_type": "slide"
    }
   },
   "outputs": [
    {
     "name": "stdout",
     "output_type": "stream",
     "text": [
      "ham     4825\n",
      "spam     747\n",
      "Name: 0, dtype: int64\n"
     ]
    }
   ],
   "source": [
    "# Conserve la première cologne de la matrice\n",
    "# Compte les catégories (HAM/SPAM)\n",
    "# Affiche le résultats\n",
    "classes = df[0]\n",
    "print(classes.value_counts())"
   ]
  },
  {
   "cell_type": "markdown",
   "metadata": {
    "slideshow": {
     "slide_type": "slide"
    }
   },
   "source": [
    "## 2. Pré-traitage du procédé\n",
    "### 2.1 Utilisation des expressions régulières"
   ]
  },
  {
   "cell_type": "markdown",
   "metadata": {
    "slideshow": {
     "slide_type": "slide"
    }
   },
   "source": [
    "Il va falloir rassembler certaines données en un type de donnée (exemple les adresses mail auront toutes la même forme, idem pour les liens, les numéros etc...)  "
   ]
  },
  {
   "cell_type": "code",
   "execution_count": 4,
   "metadata": {
    "slideshow": {
     "slide_type": "slide"
    }
   },
   "outputs": [
    {
     "name": "stdout",
     "output_type": "stream",
     "text": [
      "[0 0 1 0 0 1 0 0 1 1]\n",
      "\n",
      " Nous avons transformé les 'ham' en '0' et les 'spam' en 1\n",
      "\n",
      "0     ham\n",
      "1     ham\n",
      "2    spam\n",
      "3     ham\n",
      "4     ham\n",
      "5    spam\n",
      "6     ham\n",
      "7     ham\n",
      "8    spam\n",
      "9    spam\n",
      "Name: 0, dtype: object\n"
     ]
    }
   ],
   "source": [
    "from sklearn.preprocessing import LabelEncoder\n",
    "\n",
    "# Convertir les labels de la classes en valeur binaire:\n",
    "# 0 = ham and 1 = spam et les mettres dans une liste Y\n",
    "encoder = LabelEncoder()\n",
    "Y = encoder.fit_transform(classes)\n",
    "\n",
    "print(Y[:10])\n",
    "print(\"\\n Nous avons transformé les 'ham' en '0' et les 'spam' en 1\\n\")\n",
    "print(classes[:10])"
   ]
  },
  {
   "cell_type": "code",
   "execution_count": 5,
   "metadata": {
    "slideshow": {
     "slide_type": "slide"
    }
   },
   "outputs": [
    {
     "name": "stdout",
     "output_type": "stream",
     "text": [
      "0    Go until jurong point, crazy.. Available only ...\n",
      "1                        Ok lar... Joking wif u oni...\n",
      "2    Free entry in 2 a wkly comp to win FA Cup fina...\n",
      "3    U dun say so early hor... U c already then say...\n",
      "4    Nah I don't think he goes to usf, he lives aro...\n",
      "5    FreeMsg Hey there darling it's been 3 week's n...\n",
      "6    Even my brother is not like to speak with me. ...\n",
      "7    As per your request 'Melle Melle (Oru Minnamin...\n",
      "8    WINNER!! As a valued network customer you have...\n",
      "9    Had your mobile 11 months or more? U R entitle...\n",
      "Name: 1, dtype: object\n"
     ]
    }
   ],
   "source": [
    "# Stockage des SMS dans la variable text_messages\n",
    "text_messages = df[1]\n",
    "print(text_messages[:10])"
   ]
  },
  {
   "cell_type": "markdown",
   "metadata": {
    "slideshow": {
     "slide_type": "slide"
    }
   },
   "source": [
    "Suppression des adresses mail, URL, numéro de téléphone, nombres et tout ce qui s'apparente à du SPAM. Pour cela, on utilise des expressions régulières: elles sont disponibles sur le site: http://regexlib.com/Search.aspx?k=email"
   ]
  },
  {
   "cell_type": "code",
   "execution_count": 6,
   "metadata": {
    "slideshow": {
     "slide_type": "slide"
    }
   },
   "outputs": [],
   "source": [
    "# Procédure qui remplace des adresses mails par 'emailaddress'\n",
    "processed = text_messages.str.replace(r'^.+@[^\\.].*\\.[a-z]{2,}$','emailaddress')\n",
    "\n",
    "# Procédure qui remplace les URLs par 'webaddress'\n",
    "processed = processed.str.replace(r'^http\\://[a-zA-Z0-9\\-\\.]+\\.[a-zA-Z]{2,3}(/\\S*)?$','webaddress')\n",
    "\n",
    "# Procédure qui remplace les sympboles d'argents par 'moneysymb'\n",
    "processed = processed.str.replace(r'£|\\$', 'moneysymb')\n",
    "    \n",
    "# Procédure qui remplace les numéros de téléhpone par 'phonenumbr' \n",
    "processed = processed.str.replace(r'^\\(?[\\d]{3}\\)?[\\s-]?[\\d]{3}[\\s-]?[\\d]{4}$','phonenumbr')\n",
    "    \n",
    "# Procédure qui remplace les chiffres/nombres par 'numbr'\n",
    "processed = processed.str.replace(r'\\d+(\\.\\d+)?', 'numbr')\n",
    "\n",
    "# Suppression de la ponctuation\n",
    "processed = processed.str.replace(r'[^\\w\\d\\s]', ' ')\n",
    "\n",
    "# Remplacement des espaces multiples par des espaces simples\n",
    "processed = processed.str.replace(r'\\s+', ' ')\n",
    "\n",
    "# Mise en minuscule des mots\n",
    "processed = processed.str.lower()"
   ]
  },
  {
   "cell_type": "code",
   "execution_count": 7,
   "metadata": {
    "slideshow": {
     "slide_type": "slide"
    }
   },
   "outputs": [
    {
     "name": "stdout",
     "output_type": "stream",
     "text": [
      "0       go until jurong point crazy available only in ...\n",
      "1                                ok lar joking wif u oni \n",
      "2       free entry in numbr a wkly comp to win fa cup ...\n",
      "3            u dun say so early hor u c already then say \n",
      "4       nah i don t think he goes to usf he lives arou...\n",
      "5       freemsg hey there darling it s been numbr week...\n",
      "6       even my brother is not like to speak with me t...\n",
      "7       as per your request melle melle oru minnaminun...\n",
      "8       winner as a valued network customer you have b...\n",
      "9       had your mobile numbr months or more u r entit...\n",
      "10      i m gonna be home soon and i don t want to tal...\n",
      "11      six chances to win cash from numbr to numbr nu...\n",
      "12      urgent you have won a numbr week free membersh...\n",
      "13      i ve been searching for the right words to tha...\n",
      "14                     i have a date on sunday with will \n",
      "15      xxxmobilemovieclub to use your credit click th...\n",
      "16                                oh k i m watching here \n",
      "17      eh u remember how numbr spell his name yes i d...\n",
      "18      fine if that s the way u feel that s the way i...\n",
      "19      england v macedonia dont miss the goals team n...\n",
      "20              is that seriously how you spell his name \n",
      "21      i m going to try for numbr months ha ha only j...\n",
      "22        so ü pay first lar then when is da stock comin \n",
      "23      aft i finish my lunch then i go str down lor a...\n",
      "24      ffffffffff alright no way i can meet up with y...\n",
      "25      just forced myself to eat a slice i m really n...\n",
      "26                         lol your always so convincing \n",
      "27      did you catch the bus are you frying an egg di...\n",
      "28      i m back amp we re packing the car now i ll le...\n",
      "29      ahhh work i vaguely remember that what does it...\n",
      "                              ...                        \n",
      "5542             armand says get your ass over to epsilon\n",
      "5543               u still havent got urself a jacket ah \n",
      "5544    i m taking derek amp taylor to walmart if i m ...\n",
      "5545        hi its in durban are you still on this number\n",
      "5546            ic there are a lotta childporn cars then \n",
      "5547    had your contract mobile numbr mnths latest mo...\n",
      "5548                     no i was trying it all weekend v\n",
      "5549    you know wot people wear t shirts jumpers hat ...\n",
      "5550           cool what time you think you can get here \n",
      "5551    wen did you get so spiritual and deep that s g...\n",
      "5552    have a safe trip to nigeria wish you happiness...\n",
      "5553                           hahaha use your brain dear\n",
      "5554    well keep in mind i ve only got enough gas for...\n",
      "5555    yeh indians was nice tho it did kane me off a ...\n",
      "5556    yes i have so that s why u texted pshew missin...\n",
      "5557    no i meant the calculation is the same that lt...\n",
      "5558                                sorry i ll call later\n",
      "5559    if you aren t here in the next lt gt hours imm...\n",
      "5560                     anything lor juz both of us lor \n",
      "5561    get me out of this dump heap my mom decided to...\n",
      "5562    ok lor sony ericsson salesman i ask shuhui the...\n",
      "5563                              ard numbr like dat lor \n",
      "5564    why don t you wait til at least wednesday to s...\n",
      "5565                                           huh y lei \n",
      "5566    reminder from onumbr to get numbr pounds free ...\n",
      "5567    this is the numbrnd time we have tried numbr c...\n",
      "5568                 will ü b going to esplanade fr home \n",
      "5569    pity was in mood for that so any other suggest...\n",
      "5570    the guy did some bitching but i acted like i d...\n",
      "5571                            rofl its true to its name\n",
      "Name: 1, Length: 5572, dtype: object\n"
     ]
    }
   ],
   "source": [
    "# Affiche après Pré-traitement\n",
    "print(processed)"
   ]
  },
  {
   "cell_type": "markdown",
   "metadata": {
    "slideshow": {
     "slide_type": "slide"
    }
   },
   "source": [
    "### 2.2 Procédure STOP-WORDS et STEMMING"
   ]
  },
  {
   "cell_type": "code",
   "execution_count": 8,
   "metadata": {
    "slideshow": {
     "slide_type": "slide"
    }
   },
   "outputs": [],
   "source": [
    "# STOP-WORDS\n",
    "# Suppression des mots-d'arrêts\n",
    "stop_words = set(stopwords.words('english'))\n",
    "\n",
    "processed = processed.apply(lambda x: ' '.join(term for term in x.split() if term not in stop_words))\n",
    "\n",
    "# STEMMING\n",
    "ps = nltk.PorterStemmer()\n",
    "\n",
    "processed = processed.apply(lambda x: ' '.join(ps.stem(term) for term in x.split()))"
   ]
  },
  {
   "cell_type": "code",
   "execution_count": 9,
   "metadata": {
    "slideshow": {
     "slide_type": "slide"
    }
   },
   "outputs": [
    {
     "name": "stdout",
     "output_type": "stream",
     "text": [
      "0       go jurong point crazi avail bugi n great world...\n",
      "1                                   ok lar joke wif u oni\n",
      "2       free entri numbr wkli comp win fa cup final tk...\n",
      "3                     u dun say earli hor u c alreadi say\n",
      "4                    nah think goe usf live around though\n",
      "5       freemsg hey darl numbr week word back like fun...\n",
      "6           even brother like speak treat like aid patent\n",
      "7       per request mell mell oru minnaminungint nurun...\n",
      "8       winner valu network custom select receivea mon...\n",
      "9       mobil numbr month u r entitl updat latest colo...\n",
      "10      gonna home soon want talk stuff anymor tonight...\n",
      "11      six chanc win cash numbr numbr numbr pound txt...\n",
      "12      urgent numbr week free membership moneysymbnum...\n",
      "13      search right word thank breather promis wont t...\n",
      "14                                            date sunday\n",
      "15      xxxmobilemovieclub use credit click wap link n...\n",
      "16                                             oh k watch\n",
      "17      eh u rememb numbr spell name ye v naughti make...\n",
      "18                             fine way u feel way gota b\n",
      "19      england v macedonia dont miss goal team news t...\n",
      "20                                     serious spell name\n",
      "21                          go tri numbr month ha ha joke\n",
      "22                         ü pay first lar da stock comin\n",
      "23      aft finish lunch go str lor ard numbr smth lor...\n",
      "24                     ffffffffff alright way meet sooner\n",
      "25      forc eat slice realli hungri tho suck mark get...\n",
      "26                                      lol alway convinc\n",
      "27      catch bu fri egg make tea eat mom left dinner ...\n",
      "28                        back amp pack car let know room\n",
      "29                    ahhh work vagu rememb feel like lol\n",
      "                              ...                        \n",
      "5542                           armand say get ass epsilon\n",
      "5543                  u still havent got urself jacket ah\n",
      "5544    take derek amp taylor walmart back time done l...\n",
      "5545                               hi durban still number\n",
      "5546                               ic lotta childporn car\n",
      "5547    contract mobil numbr mnth latest motorola noki...\n",
      "5548                                        tri weekend v\n",
      "5549    know wot peopl wear shirt jumper hat belt know...\n",
      "5550                                  cool time think get\n",
      "5551                           wen get spiritu deep great\n",
      "5552    safe trip nigeria wish happi soon compani shar...\n",
      "5553                                hahaha use brain dear\n",
      "5554    well keep mind got enough ga one round trip ba...\n",
      "5555    yeh indian nice tho kane bit shud go numbr dri...\n",
      "5556                            ye u text pshew miss much\n",
      "5557    meant calcul lt gt unit lt gt school realli ex...\n",
      "5558                                     sorri call later\n",
      "5559                       next lt gt hour imma flip shit\n",
      "5560                                 anyth lor juz us lor\n",
      "5561                get dump heap mom decid come low bore\n",
      "5562    ok lor soni ericsson salesman ask shuhui say q...\n",
      "5563                               ard numbr like dat lor\n",
      "5564                     wait til least wednesday see get\n",
      "5565                                              huh lei\n",
      "5566    remind onumbr get numbr pound free call credit...\n",
      "5567    numbrnd time tri numbr contact u u moneysymbnu...\n",
      "5568                              ü b go esplanad fr home\n",
      "5569                                    piti mood suggest\n",
      "5570    guy bitch act like interest buy someth els nex...\n",
      "5571                                       rofl true name\n",
      "Name: 1, Length: 5572, dtype: object\n"
     ]
    }
   ],
   "source": [
    "# Affiche après Pré-traitement\n",
    "print(processed)"
   ]
  },
  {
   "cell_type": "markdown",
   "metadata": {
    "slideshow": {
     "slide_type": "slide"
    }
   },
   "source": [
    "## 3. Application du NOYAU VERSION SPAM\n",
    "### 3.1 Génération du Bag-of-words"
   ]
  },
  {
   "cell_type": "code",
   "execution_count": 10,
   "metadata": {
    "slideshow": {
     "slide_type": "slide"
    }
   },
   "outputs": [],
   "source": [
    "# Création du Bag-of-words\n",
    "bag = []\n",
    "\n",
    "# On met les mots dans le Bag\n",
    "for message in processed:\n",
    "    words = word_tokenize(message)\n",
    "    for w in words:\n",
    "        bag.append(w)\n",
    "\n",
    "bag = nltk.FreqDist(bag)"
   ]
  },
  {
   "cell_type": "code",
   "execution_count": 11,
   "metadata": {
    "slideshow": {
     "slide_type": "slide"
    }
   },
   "outputs": [
    {
     "name": "stdout",
     "output_type": "stream",
     "text": [
      "Le nombre de mot: 6579\n",
      "Les mots les plus communs sont: [('numbr', 2648), ('u', 1207), ('call', 674), ('go', 456), ('get', 451), ('ur', 391), ('gt', 318), ('lt', 316), ('come', 304), ('moneysymbnumbr', 303), ('ok', 293), ('free', 284), ('day', 276), ('know', 275), ('love', 266)]\n"
     ]
    },
    {
     "data": {
      "text/html": [
       "<div>\n",
       "<style scoped>\n",
       "    .dataframe tbody tr th:only-of-type {\n",
       "        vertical-align: middle;\n",
       "    }\n",
       "\n",
       "    .dataframe tbody tr th {\n",
       "        vertical-align: top;\n",
       "    }\n",
       "\n",
       "    .dataframe thead th {\n",
       "        text-align: right;\n",
       "    }\n",
       "</style>\n",
       "<table border=\"1\" class=\"dataframe\">\n",
       "  <thead>\n",
       "    <tr style=\"text-align: right;\">\n",
       "      <th></th>\n",
       "      <th>0</th>\n",
       "      <th>1</th>\n",
       "      <th>2</th>\n",
       "      <th>3</th>\n",
       "      <th>4</th>\n",
       "      <th>5</th>\n",
       "      <th>6</th>\n",
       "      <th>7</th>\n",
       "      <th>8</th>\n",
       "      <th>9</th>\n",
       "      <th>10</th>\n",
       "      <th>11</th>\n",
       "      <th>12</th>\n",
       "      <th>13</th>\n",
       "      <th>14</th>\n",
       "      <th>15</th>\n",
       "      <th>16</th>\n",
       "      <th>17</th>\n",
       "      <th>18</th>\n",
       "      <th>19</th>\n",
       "    </tr>\n",
       "  </thead>\n",
       "  <tbody>\n",
       "    <tr>\n",
       "      <th>0</th>\n",
       "      <td>(numbr, 2648)</td>\n",
       "      <td>(u, 1207)</td>\n",
       "      <td>(call, 674)</td>\n",
       "      <td>(go, 456)</td>\n",
       "      <td>(get, 451)</td>\n",
       "      <td>(ur, 391)</td>\n",
       "      <td>(gt, 318)</td>\n",
       "      <td>(lt, 316)</td>\n",
       "      <td>(come, 304)</td>\n",
       "      <td>(moneysymbnumbr, 303)</td>\n",
       "      <td>(ok, 293)</td>\n",
       "      <td>(free, 284)</td>\n",
       "      <td>(day, 276)</td>\n",
       "      <td>(know, 275)</td>\n",
       "      <td>(love, 266)</td>\n",
       "      <td>(like, 261)</td>\n",
       "      <td>(got, 252)</td>\n",
       "      <td>(time, 252)</td>\n",
       "      <td>(good, 248)</td>\n",
       "      <td>(want, 247)</td>\n",
       "    </tr>\n",
       "  </tbody>\n",
       "</table>\n",
       "</div>"
      ],
      "text/plain": [
       "              0          1            2          3           4          5   \\\n",
       "0  (numbr, 2648)  (u, 1207)  (call, 674)  (go, 456)  (get, 451)  (ur, 391)   \n",
       "\n",
       "          6          7            8                      9          10  \\\n",
       "0  (gt, 318)  (lt, 316)  (come, 304)  (moneysymbnumbr, 303)  (ok, 293)   \n",
       "\n",
       "            11          12           13           14           15          16  \\\n",
       "0  (free, 284)  (day, 276)  (know, 275)  (love, 266)  (like, 261)  (got, 252)   \n",
       "\n",
       "            17           18           19  \n",
       "0  (time, 252)  (good, 248)  (want, 247)  "
      ]
     },
     "execution_count": 11,
     "metadata": {},
     "output_type": "execute_result"
    }
   ],
   "source": [
    "# Affichage des mots les plus communs (top 15)\n",
    "print('Le nombre de mot: {}'.format(len(bag)))\n",
    "print('Les mots les plus communs sont: {}'.format(bag.most_common(15)))\n",
    "pd.DataFrame([bag.most_common(20)])"
   ]
  },
  {
   "cell_type": "code",
   "execution_count": 12,
   "metadata": {
    "slideshow": {
     "slide_type": "slide"
    }
   },
   "outputs": [],
   "source": [
    "# Utilisation des 1500 mots les plus communs comme références\n",
    "word_features = list(bag.keys())[:1500]"
   ]
  },
  {
   "cell_type": "markdown",
   "metadata": {
    "slideshow": {
     "slide_type": "slide"
    }
   },
   "source": [
    "Nous avons donc une liste des 1500 mots les plus présents dans tout le dataset d'origine. On créer une fonction qui retourne les mots qui sont à la fois dans cette liste et dans les SMS traités"
   ]
  },
  {
   "cell_type": "code",
   "execution_count": 13,
   "metadata": {
    "slideshow": {
     "slide_type": "slide"
    }
   },
   "outputs": [],
   "source": [
    "# Fonction qui retourne les mots présent dans la chaine de caractère et dans word_features\n",
    "def find_features(message):\n",
    "    words = word_tokenize(message)\n",
    "    features = {}\n",
    "    for word in word_features:\n",
    "        features[word] = (word in words)\n",
    "\n",
    "    return features"
   ]
  },
  {
   "cell_type": "markdown",
   "metadata": {
    "slideshow": {
     "slide_type": "slide"
    }
   },
   "source": [
    "La fonction Find_feature va alors prendre chaque sms (de façon quasi-aléatoire) et associer les mots retournée aux labels qui sont associés aux sms. Cela va donc permettre de reconnaitre les mots qui se trouvent dans des textes déjà classifiés comme des SPAMs "
   ]
  },
  {
   "cell_type": "code",
   "execution_count": 14,
   "metadata": {
    "slideshow": {
     "slide_type": "slide"
    }
   },
   "outputs": [],
   "source": [
    "# Automatision de la fonction find_feature\n",
    "messages = list(zip(processed, Y))\n",
    "# Echantillonnage des données\n",
    "seed=1\n",
    "np.random.seed = seed\n",
    "np.random.shuffle(messages)\n",
    "featuresets = [(find_features(text), label) for (text, label) in messages]"
   ]
  },
  {
   "cell_type": "code",
   "execution_count": 15,
   "metadata": {
    "slideshow": {
     "slide_type": "slide"
    }
   },
   "outputs": [
    {
     "name": "stdout",
     "output_type": "stream",
     "text": [
      "4179\n",
      "1393\n"
     ]
    }
   ],
   "source": [
    "# Mise en place:\n",
    "# - training set = utilisé par l'algorithme pour s'entrainer\n",
    "# - testing set = permet de mesurer l'erreur du model final sur des données qu'il n'a jamais vu\n",
    "from sklearn import model_selection\n",
    "\n",
    "# Répartition: 75% pour le training set et 25 % pour le testing set\n",
    "training, testing = model_selection.train_test_split(featuresets, test_size = 0.25, random_state=seed)\n",
    "print(len(training))\n",
    "print(len(testing))\n",
    "\n",
    "#Training pour les méta_modèles (cf partie 4.2)\n",
    "training_n2=training\n",
    "training_n3=training"
   ]
  },
  {
   "cell_type": "code",
   "execution_count": 16,
   "metadata": {
    "slideshow": {
     "slide_type": "slide"
    }
   },
   "outputs": [
    {
     "data": {
      "text/html": [
       "<div>\n",
       "<style scoped>\n",
       "    .dataframe tbody tr th:only-of-type {\n",
       "        vertical-align: middle;\n",
       "    }\n",
       "\n",
       "    .dataframe tbody tr th {\n",
       "        vertical-align: top;\n",
       "    }\n",
       "\n",
       "    .dataframe thead th {\n",
       "        text-align: right;\n",
       "    }\n",
       "</style>\n",
       "<table border=\"1\" class=\"dataframe\">\n",
       "  <thead>\n",
       "    <tr style=\"text-align: right;\">\n",
       "      <th></th>\n",
       "      <th>0</th>\n",
       "      <th>1</th>\n",
       "      <th>2</th>\n",
       "      <th>3</th>\n",
       "      <th>4</th>\n",
       "      <th>5</th>\n",
       "      <th>6</th>\n",
       "      <th>7</th>\n",
       "      <th>8</th>\n",
       "      <th>9</th>\n",
       "      <th>...</th>\n",
       "      <th>1383</th>\n",
       "      <th>1384</th>\n",
       "      <th>1385</th>\n",
       "      <th>1386</th>\n",
       "      <th>1387</th>\n",
       "      <th>1388</th>\n",
       "      <th>1389</th>\n",
       "      <th>1390</th>\n",
       "      <th>1391</th>\n",
       "      <th>1392</th>\n",
       "    </tr>\n",
       "  </thead>\n",
       "  <tbody>\n",
       "    <tr>\n",
       "      <th>0</th>\n",
       "      <td>({'go': False, 'jurong': False, 'point': False...</td>\n",
       "      <td>({'go': False, 'jurong': False, 'point': False...</td>\n",
       "      <td>({'go': False, 'jurong': False, 'point': False...</td>\n",
       "      <td>({'go': False, 'jurong': False, 'point': False...</td>\n",
       "      <td>({'go': False, 'jurong': False, 'point': False...</td>\n",
       "      <td>({'go': False, 'jurong': False, 'point': False...</td>\n",
       "      <td>({'go': False, 'jurong': False, 'point': False...</td>\n",
       "      <td>({'go': False, 'jurong': False, 'point': False...</td>\n",
       "      <td>({'go': False, 'jurong': False, 'point': False...</td>\n",
       "      <td>({'go': False, 'jurong': False, 'point': False...</td>\n",
       "      <td>...</td>\n",
       "      <td>({'go': True, 'jurong': False, 'point': False,...</td>\n",
       "      <td>({'go': False, 'jurong': False, 'point': False...</td>\n",
       "      <td>({'go': False, 'jurong': False, 'point': False...</td>\n",
       "      <td>({'go': False, 'jurong': False, 'point': False...</td>\n",
       "      <td>({'go': False, 'jurong': False, 'point': False...</td>\n",
       "      <td>({'go': True, 'jurong': False, 'point': False,...</td>\n",
       "      <td>({'go': True, 'jurong': False, 'point': False,...</td>\n",
       "      <td>({'go': False, 'jurong': False, 'point': False...</td>\n",
       "      <td>({'go': False, 'jurong': False, 'point': False...</td>\n",
       "      <td>({'go': False, 'jurong': False, 'point': False...</td>\n",
       "    </tr>\n",
       "  </tbody>\n",
       "</table>\n",
       "<p>1 rows × 1393 columns</p>\n",
       "</div>"
      ],
      "text/plain": [
       "                                                0     \\\n",
       "0  ({'go': False, 'jurong': False, 'point': False...   \n",
       "\n",
       "                                                1     \\\n",
       "0  ({'go': False, 'jurong': False, 'point': False...   \n",
       "\n",
       "                                                2     \\\n",
       "0  ({'go': False, 'jurong': False, 'point': False...   \n",
       "\n",
       "                                                3     \\\n",
       "0  ({'go': False, 'jurong': False, 'point': False...   \n",
       "\n",
       "                                                4     \\\n",
       "0  ({'go': False, 'jurong': False, 'point': False...   \n",
       "\n",
       "                                                5     \\\n",
       "0  ({'go': False, 'jurong': False, 'point': False...   \n",
       "\n",
       "                                                6     \\\n",
       "0  ({'go': False, 'jurong': False, 'point': False...   \n",
       "\n",
       "                                                7     \\\n",
       "0  ({'go': False, 'jurong': False, 'point': False...   \n",
       "\n",
       "                                                8     \\\n",
       "0  ({'go': False, 'jurong': False, 'point': False...   \n",
       "\n",
       "                                                9     \\\n",
       "0  ({'go': False, 'jurong': False, 'point': False...   \n",
       "\n",
       "                         ...                          \\\n",
       "0                        ...                           \n",
       "\n",
       "                                                1383  \\\n",
       "0  ({'go': True, 'jurong': False, 'point': False,...   \n",
       "\n",
       "                                                1384  \\\n",
       "0  ({'go': False, 'jurong': False, 'point': False...   \n",
       "\n",
       "                                                1385  \\\n",
       "0  ({'go': False, 'jurong': False, 'point': False...   \n",
       "\n",
       "                                                1386  \\\n",
       "0  ({'go': False, 'jurong': False, 'point': False...   \n",
       "\n",
       "                                                1387  \\\n",
       "0  ({'go': False, 'jurong': False, 'point': False...   \n",
       "\n",
       "                                                1388  \\\n",
       "0  ({'go': True, 'jurong': False, 'point': False,...   \n",
       "\n",
       "                                                1389  \\\n",
       "0  ({'go': True, 'jurong': False, 'point': False,...   \n",
       "\n",
       "                                                1390  \\\n",
       "0  ({'go': False, 'jurong': False, 'point': False...   \n",
       "\n",
       "                                                1391  \\\n",
       "0  ({'go': False, 'jurong': False, 'point': False...   \n",
       "\n",
       "                                                1392  \n",
       "0  ({'go': False, 'jurong': False, 'point': False...  \n",
       "\n",
       "[1 rows x 1393 columns]"
      ]
     },
     "execution_count": 16,
     "metadata": {},
     "output_type": "execute_result"
    }
   ],
   "source": [
    "pd.DataFrame([testing])"
   ]
  },
  {
   "cell_type": "markdown",
   "metadata": {
    "slideshow": {
     "slide_type": "slide"
    }
   },
   "source": [
    "On a deux matrices contenant chacune des sous listes de mots de chaque SMS avec le label"
   ]
  },
  {
   "cell_type": "markdown",
   "metadata": {
    "slideshow": {
     "slide_type": "slide"
    }
   },
   "source": [
    "## 4. Apprentissage supervisé\n",
    "### 4.1 Classification avec Scikit-Learn"
   ]
  },
  {
   "cell_type": "markdown",
   "metadata": {
    "slideshow": {
     "slide_type": "slide"
    }
   },
   "source": [
    "Maintenant que nous avons notre jeu de données traité, nous allons utiliser un classifieur de Sklearn. Il faut néanmoins choisir le classifieur adéquat pour obtenir le meilleur résultat possible. Ainsi dans cette partie nous testerons différents classifieur un à un."
   ]
  },
  {
   "cell_type": "markdown",
   "metadata": {
    "slideshow": {
     "slide_type": "slide"
    }
   },
   "source": [
    "Comme le choix des hyperparamètres est compliqué (demande des connaissances poussées en mathématiques ainsi qu'une compréhension avancée du model que je n'ai pas encore), nous conservevons la plupart hyperparamères par défaut. Nous utilisons également l'incateur \"accuracy\" pour évaluer la performance globale du modèle. Sa formule est:\n",
    "\n",
    "$$(TP+TN)/(TP+TN+FP+FN)$$\n",
    " \n",
    "- TP = Vrai positif \n",
    "- TN = Vrai négatif \n",
    "- FP = Faux posifif \n",
    "- FN = Faux négatif\n",
    "\n",
    "cf: https://stanford.edu/~shervine/l/fr/teaching/cs-229/pense-bete-machine-learning-petites-astuces"
   ]
  },
  {
   "cell_type": "markdown",
   "metadata": {},
   "source": [
    "#### 4.1.A Test du classifieur SVC (Support Vector Classification)\n",
    "https://scikit-learn.org/stable/modules/generated/sklearn.svm.SVC.html"
   ]
  },
  {
   "cell_type": "code",
   "execution_count": 17,
   "metadata": {
    "slideshow": {
     "slide_type": "slide"
    }
   },
   "outputs": [
    {
     "name": "stdout",
     "output_type": "stream",
     "text": [
      "La précision de classification est de 98.42%\n"
     ]
    }
   ],
   "source": [
    "# Paramétrage du classifier \n",
    "# (kernel = poly/rbf/sigmoid/linear/precomputed/callable)\n",
    "model = SklearnClassifier(SVC(kernel = 'linear'))\n",
    "\n",
    "# On entraine le model\n",
    "model.train(training)\n",
    "\n",
    "# On test le classifier en utilisant l'échantillon \"testing\"\n",
    "accuracy = nltk.classify.accuracy(model, testing)*100\n",
    "accuracy = (round(accuracy,2))\n",
    "print (\"La précision de classification est de \"+str(accuracy)+\"%\")"
   ]
  },
  {
   "cell_type": "markdown",
   "metadata": {
    "slideshow": {
     "slide_type": "slide"
    }
   },
   "source": [
    "Essayons à présent de faire varier les hyperparamètres afin d'optimiser le classifieur SVC"
   ]
  },
  {
   "cell_type": "code",
   "execution_count": 18,
   "metadata": {
    "slideshow": {
     "slide_type": "slide"
    }
   },
   "outputs": [
    {
     "data": {
      "image/png": "[encoded data removed]",
      "text/plain": [
       "<Figure size 432x288 with 1 Axes>"
      ]
     },
     "metadata": {},
     "output_type": "display_data"
    }
   ],
   "source": [
    "# Les paramètres\n",
    "K=['linear','poly','rbf','sigmoid']\n",
    "\n",
    "# Les résultats\n",
    "AccuracyTAB=[]\n",
    "\n",
    "# Test du classifieur en modifiant les Kernels\n",
    "for i in range(len(K)):\n",
    "    model = SklearnClassifier(SVC(kernel = K[i]))\n",
    "    model.train(training)\n",
    "    accuracy = nltk.classify.accuracy(model, testing)*100\n",
    "    AccuracyTAB.append(round(accuracy,2))\n",
    "    \n",
    "# Affichage des courbes\n",
    "plt.grid(True)\n",
    "plt.plot(K,AccuracyTAB)\n",
    "plt.title(\"Performance globale en modifiant le kernel\")\n",
    "plt.xlabel(\"Type de Kernel\")\n",
    "plt.ylabel(\"Performance %\")\n",
    "plt.show()"
   ]
  },
  {
   "cell_type": "markdown",
   "metadata": {
    "slideshow": {
     "slide_type": "slide"
    }
   },
   "source": [
    "Le graphe permet de mettre en évidence le choix du meilleur hyperparamètre \"kernel\" pour l'algorithme de classification SVC dans ce cas d'utilisation. Il existe d'autres hyperparamètres mais nous n'allons les modifiers pour plusieurs raisons:\n",
    "\n",
    "- Le nombre de combinaisons est énorme, il faudrait beaucoup de temps pour tout tester\n",
    "- Nous avons déjà un bon résultats (98% de réussite en moyenne)\n",
    "\n",
    "Essayons de faire de même avec plusieurs avec d'autres algorithmes de classification"
   ]
  },
  {
   "cell_type": "markdown",
   "metadata": {
    "slideshow": {
     "slide_type": "slide"
    }
   },
   "source": [
    "#### 4.1.B Test du classifieur DecisionTreeClassifier\n",
    "https://scikit-learn.org/stable/modules/generated/sklearn.tree.DecisionTreeClassifier.html"
   ]
  },
  {
   "cell_type": "code",
   "execution_count": 19,
   "metadata": {
    "slideshow": {
     "slide_type": "slide"
    }
   },
   "outputs": [
    {
     "name": "stdout",
     "output_type": "stream",
     "text": [
      "La précision de classification est de 97.49%\n"
     ]
    }
   ],
   "source": [
    "model = SklearnClassifier(DecisionTreeClassifier())\n",
    "# On entraine le model\n",
    "model.train(training)\n",
    "\n",
    "# On test le classifier en utilisant l'échantillon \"testing\"\n",
    "accuracy = nltk.classify.accuracy(model, testing)*100\n",
    "accuracy = (round(accuracy,2))\n",
    "print (\"La précision de classification est de \"+str(accuracy)+\"%\")"
   ]
  },
  {
   "cell_type": "markdown",
   "metadata": {
    "slideshow": {
     "slide_type": "slide"
    }
   },
   "source": [
    "Dans ce cas, nous laissons les hyperparamètres par défaut et nous pouvons constater que ce classifieur est un peu moins performant que le précédent"
   ]
  },
  {
   "cell_type": "markdown",
   "metadata": {
    "slideshow": {
     "slide_type": "slide"
    }
   },
   "source": [
    "#### 4.1.C Test du classifieur KNN (KNeighborsClassifier)\n",
    "https://scikit-learn.org/stable/modules/generated/sklearn.neighbors.KNeighborsClassifier.html"
   ]
  },
  {
   "cell_type": "code",
   "execution_count": 20,
   "metadata": {
    "slideshow": {
     "slide_type": "slide"
    }
   },
   "outputs": [
    {
     "data": {
      "image/png": "[encoded data removed]",
      "text/plain": [
       "<Figure size 432x288 with 1 Axes>"
      ]
     },
     "metadata": {},
     "output_type": "display_data"
    }
   ],
   "source": [
    "# Les paramètres\n",
    "N=[1,2,3,4,5,6,7,8,9]\n",
    "\n",
    "# Les résultats\n",
    "AccuracyTAB=[]\n",
    "\n",
    "# Test du classifieur en modifiant le nombre de voisin\n",
    "for i in range(len(N)):\n",
    "    model = SklearnClassifier(KNeighborsClassifier(n_neighbors= N[i]))\n",
    "    model.train(training)\n",
    "    accuracy = nltk.classify.accuracy(model, testing)*100\n",
    "    AccuracyTAB.append(round(accuracy,2))\n",
    "    \n",
    "# Affichage des courbes\n",
    "plt.grid(True)\n",
    "plt.plot(N,AccuracyTAB)\n",
    "plt.title(\"Performance globale en modifiant le nombre de voisin\")\n",
    "plt.xlabel(\"Nombre de plus proche voisin\")\n",
    "plt.ylabel(\"Performance %\")\n",
    "plt.show()"
   ]
  },
  {
   "cell_type": "markdown",
   "metadata": {
    "slideshow": {
     "slide_type": "slide"
    }
   },
   "source": [
    "Dans le cas de la variation du nombre de plus proche voisin pour l'algorithme de classification du KNN, nous pouvons voir qu'il est plus performant de choisir un nombre de voisin égal à 1."
   ]
  },
  {
   "cell_type": "markdown",
   "metadata": {
    "slideshow": {
     "slide_type": "slide"
    }
   },
   "source": [
    "#### 4.1.D Test du classifieur RandomForestClassifier\n",
    "https://scikit-learn.org/stable/modules/generated/sklearn.ensemble.RandomForestClassifier.html"
   ]
  },
  {
   "cell_type": "code",
   "execution_count": 21,
   "metadata": {
    "slideshow": {
     "slide_type": "slide"
    }
   },
   "outputs": [
    {
     "data": {
      "image/png": "[encoded data removed]",
      "text/plain": [
       "<Figure size 432x288 with 1 Axes>"
      ]
     },
     "metadata": {},
     "output_type": "display_data"
    }
   ],
   "source": [
    "# Les paramètres\n",
    "E=np.arange(10, 100, 10)\n",
    "\n",
    "# Les résultats\n",
    "AccuracyTAB=[]\n",
    "\n",
    "# Test du classifieur en modifiant le nombre de forêt\n",
    "for i in range(len(E)):\n",
    "    model = SklearnClassifier(RandomForestClassifier(n_estimators=E[i]))\n",
    "    model.train(training)\n",
    "    accuracy = nltk.classify.accuracy(model, testing)*100\n",
    "    AccuracyTAB.append(round(accuracy,2))\n",
    "    \n",
    "# Affichage des courbes\n",
    "plt.grid(True)\n",
    "plt.plot(E,AccuracyTAB)\n",
    "plt.title(\"Performance globale en modifiant le nombre de forêt\")\n",
    "plt.xlabel(\"Nombre d'arbre de forêt\")\n",
    "plt.ylabel(\"Performance %\")\n",
    "plt.show()"
   ]
  },
  {
   "cell_type": "markdown",
   "metadata": {
    "slideshow": {
     "slide_type": "slide"
    }
   },
   "source": [
    "Dans le cas de la variation du nombre d'arbre de forêt pour l'algorithme de classification RandomForest, nous pouvons voir qu'il est plus performant de choisir un nombre d'arbre élevé (ce nombre étant limité à 100).\n",
    "\n",
    "A noter que ce graphe n'est pas reproductible, en effet la courbe varie énormément entre 10 et 80, mais l'intervalle de performance est toujours située entre 98.5% et 100%. En général le maximum est atteint avec un nombre de forêt égal à 100."
   ]
  },
  {
   "cell_type": "markdown",
   "metadata": {
    "slideshow": {
     "slide_type": "slide"
    }
   },
   "source": [
    "#### 4.1.E Test du classifieur LogistiqueRegression\n",
    "https://scikit-learn.org/stable/modules/generated/sklearn.linear_model.LogisticRegression.html"
   ]
  },
  {
   "cell_type": "code",
   "execution_count": 22,
   "metadata": {
    "slideshow": {
     "slide_type": "slide"
    }
   },
   "outputs": [
    {
     "name": "stderr",
     "output_type": "stream",
     "text": [
      "T:\\Program Files (x86)\\Microsoft Visual Studio\\Shared\\Anaconda3_64\\lib\\site-packages\\sklearn\\linear_model\\sag.py:326: ConvergenceWarning: The max_iter was reached which means the coef_ did not converge\n",
      "  \"the coef_ did not converge\", ConvergenceWarning)\n"
     ]
    },
    {
     "data": {
      "image/png": "[encoded data removed]",
      "text/plain": [
       "<Figure size 432x288 with 1 Axes>"
      ]
     },
     "metadata": {},
     "output_type": "display_data"
    }
   ],
   "source": [
    "# Les paramètres\n",
    "M=['newton-cg', 'lbfgs', 'liblinear', 'sag', 'saga']\n",
    "\n",
    "# Les résultats\n",
    "AccuracyTAB=[]\n",
    "\n",
    "# Test du classifieur en modifiant le solver\n",
    "for i in range(len(M)):\n",
    "    model = SklearnClassifier(LogisticRegression(solver=M[i]))\n",
    "    model.train(training)\n",
    "    accuracy = nltk.classify.accuracy(model, testing)*100\n",
    "    AccuracyTAB.append(round(accuracy,2))\n",
    "    \n",
    "# Affichage des courbes\n",
    "plt.grid(True)\n",
    "plt.plot(M,AccuracyTAB)\n",
    "plt.title(\"Performance globale en modifiant le solver\")\n",
    "plt.xlabel(\"Type de solver\")\n",
    "plt.ylabel(\"Performance %\")\n",
    "plt.show()"
   ]
  },
  {
   "cell_type": "markdown",
   "metadata": {
    "slideshow": {
     "slide_type": "slide"
    }
   },
   "source": [
    "Dans ce cas la, la modification du solver n'a quasiment aucun impact sur la performance de l'algorithme (entre 98 et 99%)."
   ]
  },
  {
   "cell_type": "markdown",
   "metadata": {
    "slideshow": {
     "slide_type": "slide"
    }
   },
   "source": [
    "#### 4.1.F Test du classifieur Naive_bayes.MultinomialNB\n",
    "https://scikit-learn.org/stable/modules/generated/sklearn.naive_bayes.MultinomialNB.html"
   ]
  },
  {
   "cell_type": "code",
   "execution_count": 23,
   "metadata": {
    "slideshow": {
     "slide_type": "slide"
    }
   },
   "outputs": [
    {
     "data": {
      "image/png": "[encoded data removed]",
      "text/plain": [
       "<Figure size 432x288 with 1 Axes>"
      ]
     },
     "metadata": {},
     "output_type": "display_data"
    },
    {
     "data": {
      "image/png": "[encoded data removed]",
      "text/plain": [
       "<Figure size 432x288 with 1 Axes>"
      ]
     },
     "metadata": {},
     "output_type": "display_data"
    },
    {
     "data": {
      "image/png": "[encoded data removed]",
      "text/plain": [
       "<Figure size 432x288 with 1 Axes>"
      ]
     },
     "metadata": {},
     "output_type": "display_data"
    }
   ],
   "source": [
    "# Les paramètres\n",
    "A=np.arange(0.001, 100, 10)\n",
    "B=np.arange(0.001, 10, 1)\n",
    "C=np.arange(0.001, 1, 0.1)\n",
    "\n",
    "# Les résultats\n",
    "AccuracyTAB=[]\n",
    "AccuracyTAB2=[]\n",
    "AccuracyTAB3=[]\n",
    "\n",
    "# Test du classifieur en modifiant le alpha\n",
    "for i in range(len(A)):\n",
    "    model = SklearnClassifier(MultinomialNB(alpha=A[i]))\n",
    "    model.train(training)\n",
    "    accuracy = nltk.classify.accuracy(model, testing)*100\n",
    "    AccuracyTAB.append(round(accuracy,2))\n",
    "    \n",
    "for i in range(len(B)):\n",
    "    model = SklearnClassifier(MultinomialNB(alpha=B[i]))\n",
    "    model.train(training)\n",
    "    accuracy = nltk.classify.accuracy(model, testing)*100\n",
    "    AccuracyTAB2.append(round(accuracy,2))\n",
    "    \n",
    "for i in range(len(C)):\n",
    "    model = SklearnClassifier(MultinomialNB(alpha=C[i]))\n",
    "    model.train(training)\n",
    "    accuracy = nltk.classify.accuracy(model, testing)*100\n",
    "    AccuracyTAB3.append(round(accuracy,2))\n",
    "    \n",
    "# Affichage des courbes\n",
    "plt.grid(True)\n",
    "plt.plot(A,AccuracyTAB)\n",
    "plt.title(\"Performance globale en modifiant le alpha\")\n",
    "plt.xlabel(\"alpha\")\n",
    "plt.ylabel(\"Performance %\")\n",
    "plt.show()\n",
    "\n",
    "plt.grid(True)\n",
    "plt.plot(B,AccuracyTAB2)\n",
    "plt.title(\"Performance globale en modifiant le alpha\")\n",
    "plt.xlabel(\"alpha\")\n",
    "plt.ylabel(\"Performance %\")\n",
    "plt.show()\n",
    "\n",
    "plt.grid(True)\n",
    "plt.plot(C,AccuracyTAB3)\n",
    "plt.title(\"Performance globale en modifiant le alpha\")\n",
    "plt.xlabel(\"alpha\")\n",
    "plt.ylabel(\"Performance %\")\n",
    "plt.show()"
   ]
  },
  {
   "cell_type": "markdown",
   "metadata": {
    "slideshow": {
     "slide_type": "slide"
    }
   },
   "source": [
    "Les trois courbes permettent de mettre en évidence que l'hyperparamètre \"alpha\" doit être faible."
   ]
  },
  {
   "cell_type": "markdown",
   "metadata": {
    "slideshow": {
     "slide_type": "slide"
    }
   },
   "source": [
    "### 4.2 Génération d'un Meta-Classifieur avec Scikit-Learn "
   ]
  },
  {
   "cell_type": "markdown",
   "metadata": {
    "slideshow": {
     "slide_type": "slide"
    }
   },
   "source": [
    "On adopte le principe des méthodes ensemblistes: c'est à dire utiliser des classifieurs différents (qui ne classent pas de la même manière) pour obtenir de meilleurs résultats. Nous avons déterminé dans la précédente partie des hyperparamètres qui améliore la performance global de chaque algorithme de classfication. Nous allons réaliser deux méta_classifieurs dont le premier aura tous les hyperparamètres par défaut et l'autres aura les hyperparamètres déterminés dans la partie d'avant."
   ]
  },
  {
   "cell_type": "markdown",
   "metadata": {},
   "source": [
    "#### 4.2.A Meta_modèle normal"
   ]
  },
  {
   "cell_type": "code",
   "execution_count": 24,
   "metadata": {},
   "outputs": [
    {
     "name": "stderr",
     "output_type": "stream",
     "text": [
      "T:\\Program Files (x86)\\Microsoft Visual Studio\\Shared\\Anaconda3_64\\lib\\site-packages\\sklearn\\linear_model\\stochastic_gradient.py:128: FutureWarning: max_iter and tol parameters have been added in <class 'sklearn.linear_model.stochastic_gradient.SGDClassifier'> in 0.19. If both are left unset, they default to max_iter=5 and tol=None. If tol is not None, max_iter defaults to max_iter=1000. From 0.21, default max_iter will be 1000, and default tol will be 1e-3.\n",
      "  \"and default tol will be 1e-3.\" % type(self), FutureWarning)\n"
     ]
    },
    {
     "name": "stdout",
     "output_type": "stream",
     "text": [
      "Précision de meta_classifieur: 98.492%\n"
     ]
    },
    {
     "name": "stderr",
     "output_type": "stream",
     "text": [
      "T:\\Program Files (x86)\\Microsoft Visual Studio\\Shared\\Anaconda3_64\\lib\\site-packages\\sklearn\\preprocessing\\label.py:151: DeprecationWarning: The truth value of an empty array is ambiguous. Returning False, but in future this will result in an error. Use `array.size > 0` to check that an array is not empty.\n",
      "  if diff:\n"
     ]
    }
   ],
   "source": [
    "# Modèle individuels\n",
    "KNC=KNeighborsClassifier()\n",
    "DTC=DecisionTreeClassifier()\n",
    "RFC=RandomForestClassifier()\n",
    "LG=LogisticRegression()\n",
    "SGDC=SGDClassifier()\n",
    "M=MultinomialNB()\n",
    "SC=SVC()\n",
    "\n",
    "# Construction du meta-modèle\n",
    "meta_model = SklearnClassifier(VotingClassifier(estimators=[('k1',KNC),('k2',DTC),('k3',RFC),('k4',LG),('k5',SGDC),('k6',M),('k7',SC)],voting=\"hard\"))\n",
    "meta_model.train(training_n3)\n",
    "accuracy = nltk.classify.accuracy(meta_model, testing)*100\n",
    "accuracy = (round(accuracy,3))\n",
    "print(\"Précision de meta_classifieur: {}\".format(accuracy)+\"%\")"
   ]
  },
  {
   "cell_type": "markdown",
   "metadata": {
    "slideshow": {
     "slide_type": "slide"
    }
   },
   "source": [
    "#### 4.2.3 Meta_Modèle Optimisé"
   ]
  },
  {
   "cell_type": "code",
   "execution_count": 25,
   "metadata": {
    "slideshow": {
     "slide_type": "slide"
    }
   },
   "outputs": [
    {
     "name": "stderr",
     "output_type": "stream",
     "text": [
      "T:\\Program Files (x86)\\Microsoft Visual Studio\\Shared\\Anaconda3_64\\lib\\site-packages\\sklearn\\linear_model\\sag.py:326: ConvergenceWarning: The max_iter was reached which means the coef_ did not converge\n",
      "  \"the coef_ did not converge\", ConvergenceWarning)\n"
     ]
    },
    {
     "name": "stdout",
     "output_type": "stream",
     "text": [
      "Précision de meta_classifieur optimisé: 98.78%\n"
     ]
    },
    {
     "name": "stderr",
     "output_type": "stream",
     "text": [
      "T:\\Program Files (x86)\\Microsoft Visual Studio\\Shared\\Anaconda3_64\\lib\\site-packages\\sklearn\\preprocessing\\label.py:151: DeprecationWarning: The truth value of an empty array is ambiguous. Returning False, but in future this will result in an error. Use `array.size > 0` to check that an array is not empty.\n",
      "  if diff:\n"
     ]
    }
   ],
   "source": [
    "# Modèle individuels optimisés\n",
    "KNC=KNeighborsClassifier(n_neighbors=1)\n",
    "DTC=DecisionTreeClassifier()\n",
    "RFC=RandomForestClassifier(n_estimators=100)\n",
    "LG=LogisticRegression(solver='saga')\n",
    "SGDC=SGDClassifier(max_iter = 100)\n",
    "M=MultinomialNB(alpha=0.4)\n",
    "SC=SVC(kernel = 'linear')\n",
    "\n",
    "# Construction du meta-modèle\n",
    "meta_model2 = SklearnClassifier(VotingClassifier(estimators=[('k1',KNC),('k2',DTC),('k3',RFC),('k4',LG),('k5',SGDC),('k6',M),('k7',SC)],voting=\"hard\"))\n",
    "meta_model2.train(training_n2)\n",
    "accuracy2 = nltk.classify.accuracy(meta_model2, testing)*100\n",
    "accuracy2 = (round(accuracy2,3))\n",
    "print(\"Précision de meta_classifieur optimisé: {}\".format(accuracy2)+\"%\")"
   ]
  },
  {
   "cell_type": "code",
   "execution_count": 26,
   "metadata": {
    "slideshow": {
     "slide_type": "slide"
    }
   },
   "outputs": [
    {
     "data": {
      "image/png": "[encoded data removed]",
      "text/plain": [
       "<Figure size 432x288 with 1 Axes>"
      ]
     },
     "metadata": {},
     "output_type": "display_data"
    }
   ],
   "source": [
    "#Diagramme de comparaison\n",
    "fig = plt.figure()\n",
    "\n",
    "x = ['meta_classifieur','meta_classifieur_optimisé']\n",
    "height = [accuracy,accuracy2]\n",
    "width = 0.4 # modifier la largeur des bâtons\n",
    "plt.bar(x, height, width, color='b' )\n",
    "plt.show()"
   ]
  },
  {
   "cell_type": "markdown",
   "metadata": {
    "slideshow": {
     "slide_type": "slide"
    }
   },
   "source": [
    "## 5.Test de l'algorithme d'apprentissage\n",
    "\n",
    "### 5.1 Prédiction du dataset testing"
   ]
  },
  {
   "cell_type": "markdown",
   "metadata": {
    "slideshow": {
     "slide_type": "slide"
    }
   },
   "source": [
    "Nous allons à présent tester l'algorithme sur le jeu de données testing (différents de la partie d'apprentissage)"
   ]
  },
  {
   "cell_type": "code",
   "execution_count": 27,
   "metadata": {
    "slideshow": {
     "slide_type": "slide"
    }
   },
   "outputs": [
    {
     "name": "stderr",
     "output_type": "stream",
     "text": [
      "T:\\Program Files (x86)\\Microsoft Visual Studio\\Shared\\Anaconda3_64\\lib\\site-packages\\sklearn\\preprocessing\\label.py:151: DeprecationWarning: The truth value of an empty array is ambiguous. Returning False, but in future this will result in an error. Use `array.size > 0` to check that an array is not empty.\n",
      "  if diff:\n"
     ]
    }
   ],
   "source": [
    "#On dézipe testing pour séparer les labels et les features\n",
    "txt_features, labels = zip(*testing)\n",
    "\n",
    "prediction = meta_model2.classify_many(txt_features)"
   ]
  },
  {
   "cell_type": "markdown",
   "metadata": {
    "slideshow": {
     "slide_type": "slide"
    }
   },
   "source": [
    "### 5.1 Explication des résultats\n",
    "\n",
    "#### 5.1.1 Matrice de confusion"
   ]
  },
  {
   "cell_type": "code",
   "execution_count": 28,
   "metadata": {
    "slideshow": {
     "slide_type": "slide"
    }
   },
   "outputs": [
    {
     "name": "stdout",
     "output_type": "stream",
     "text": [
      "precision = À quel point les prédictions positives sont précises\n",
      "TP/(TP+FP)\n",
      "\n",
      "recall = Couverture des observations vraiment positives\n",
      "TP/(TP+FN)\n",
      "\n",
      "F1_score = Indicateur hybride utilisé pour les classes non-balancées\n",
      "2TP/(2TP+FP+FN)\n",
      "\n",
      "L'erreur est de: 1.508 %\n",
      "\n",
      "             precision    recall  f1-score   support\n",
      "\n",
      "          0       0.99      1.00      0.99      1191\n",
      "          1       0.99      0.92      0.96       202\n",
      "\n",
      "avg / total       0.99      0.99      0.99      1393\n",
      "\n"
     ]
    },
    {
     "data": {
      "text/html": [
       "<div>\n",
       "<style scoped>\n",
       "    .dataframe tbody tr th:only-of-type {\n",
       "        vertical-align: middle;\n",
       "    }\n",
       "\n",
       "    .dataframe tbody tr th {\n",
       "        vertical-align: top;\n",
       "    }\n",
       "\n",
       "    .dataframe thead tr th {\n",
       "        text-align: left;\n",
       "    }\n",
       "</style>\n",
       "<table border=\"1\" class=\"dataframe\">\n",
       "  <thead>\n",
       "    <tr>\n",
       "      <th></th>\n",
       "      <th></th>\n",
       "      <th colspan=\"2\" halign=\"left\">Ce qui été prédit</th>\n",
       "    </tr>\n",
       "    <tr>\n",
       "      <th></th>\n",
       "      <th></th>\n",
       "      <th>NON-SPAM</th>\n",
       "      <th>SPAM</th>\n",
       "    </tr>\n",
       "  </thead>\n",
       "  <tbody>\n",
       "    <tr>\n",
       "      <th rowspan=\"2\" valign=\"top\">En réalité</th>\n",
       "      <th>NON-SPAM</th>\n",
       "      <td>1190</td>\n",
       "      <td>1</td>\n",
       "    </tr>\n",
       "    <tr>\n",
       "      <th>SPAM</th>\n",
       "      <td>16</td>\n",
       "      <td>186</td>\n",
       "    </tr>\n",
       "  </tbody>\n",
       "</table>\n",
       "</div>"
      ],
      "text/plain": [
       "                    Ce qui été prédit     \n",
       "                             NON-SPAM SPAM\n",
       "En réalité NON-SPAM              1190    1\n",
       "           SPAM                    16  186"
      ]
     },
     "execution_count": 28,
     "metadata": {},
     "output_type": "execute_result"
    }
   ],
   "source": [
    "#Explication du tableau de résultats\n",
    "print(\"precision = À quel point les prédictions positives sont précises\")\n",
    "print(\"TP/(TP+FP)\\n\")\n",
    "\n",
    "print(\"recall = Couverture des observations vraiment positives\")\n",
    "print(\"TP/(TP+FN)\\n\")\n",
    "\n",
    "print(\"F1_score = Indicateur hybride utilisé pour les classes non-balancées\")\n",
    "print(\"2TP/(2TP+FP+FN)\\n\")\n",
    "\n",
    "# affichage des résultats\n",
    "erreur= round((100-accuracy),3)\n",
    "print(\"L'erreur est de: {}\".format(erreur)+\" %\\n\")\n",
    "print(classification_report(labels, prediction))\n",
    "\n",
    "pd.DataFrame(\n",
    "    confusion_matrix(labels, prediction),\n",
    "    index = [['En réalité', 'En réalité'], ['NON-SPAM', 'SPAM']],\n",
    "    columns = [['Ce qui été prédit', 'Ce qui été prédit'], ['NON-SPAM', 'SPAM']])"
   ]
  },
  {
   "cell_type": "markdown",
   "metadata": {
    "slideshow": {
     "slide_type": "slide"
    }
   },
   "source": [
    "#### 5.1.2 Courbe ROC"
   ]
  },
  {
   "cell_type": "markdown",
   "metadata": {
    "slideshow": {
     "slide_type": "slide"
    }
   },
   "source": [
    "La courbe ROC représente le taux de True Positives en fonction de taux de False Positives et obtenue en faisant varier le seuil. \n",
    "\n",
    "cf: https://stanford.edu/~shervine/l/fr/teaching/cs-229/pense-bete-machine-learning-petites-astuces\n",
    "\n",
    "tuto traçage de la courbe: https://datamize.wordpress.com/2015/01/24/how-to-plot-a-roc-curve-in-scikit-learn/\n",
    "\n",
    "Ces indicateurs sont résumés dans le tableau suivant :\n",
    "\n",
    "|        Indicatieur          |       Formule         |       Equivalent      |\n",
    "|-----------------------------|-----------------------|-----------------------|\n",
    "|   True Positive Rate TPR    |    $(TP)/(TP+FN)$     |   Recall, sensitivity |\n",
    "|   False Positive Rate FPR   |    $(FP)/(TN+FP)$     |      1-specificity    |\n"
   ]
  },
  {
   "cell_type": "code",
   "execution_count": 30,
   "metadata": {
    "slideshow": {
     "slide_type": "slide"
    }
   },
   "outputs": [
    {
     "data": {
      "image/png": "[encoded data removed]",
      "text/plain": [
       "<Figure size 432x288 with 1 Axes>"
      ]
     },
     "metadata": {},
     "output_type": "display_data"
    }
   ],
   "source": [
    "# Importation bibliothèques\n",
    "from sklearn.metrics import roc_curve, auc\n",
    "import matplotlib.pyplot as plt\n",
    "import random\n",
    "\n",
    "# Transformation de la liste en tableau\n",
    "labelsTAB = np.asarray(labels)\n",
    "\n",
    "# Calcul du FPR et du TPR\n",
    "false_positive_rate, true_positive_rate, thresholds = roc_curve(labelsTAB, prediction)\n",
    "roc_auc = auc(false_positive_rate, true_positive_rate)\n",
    "\n",
    "# Affichage de la courbe\n",
    "plt.title('Courbe ROC')\n",
    "plt.plot(false_positive_rate, true_positive_rate, 'b',\n",
    "label='AUC = %0.1f'% roc_auc)\n",
    "plt.legend(loc='lower right')\n",
    "plt.plot([0,1],[0,1],'r--')\n",
    "plt.xlim([0,1])\n",
    "plt.ylim([0,1])\n",
    "plt.ylabel('True Positive Rate')\n",
    "plt.xlabel('False Positive Rate')\n",
    "plt.show()\n"
   ]
  },
  {
   "cell_type": "markdown",
   "metadata": {
    "slideshow": {
     "slide_type": "slide"
    }
   },
   "source": [
    "## 6. Conclusion"
   ]
  },
  {
   "cell_type": "markdown",
   "metadata": {},
   "source": [
    "Nous avons réalisé un algorithme de classification de SPAM à partie d'un jeu de données (SPAM email). Sur la phase de test (avec le même jeu de données), l'erreur de l'algorithme est de 1%. "
   ]
  },
  {
   "cell_type": "code",
   "execution_count": null,
   "metadata": {},
   "outputs": [],
   "source": []
  }
 ],
 "metadata": {
  "celltoolbar": "Slideshow",
  "kernelspec": {
   "display_name": "Python 3",
   "language": "python",
   "name": "python3"
  },
  "language_info": {
   "codemirror_mode": {
    "name": "ipython",
    "version": 3
   },
   "file_extension": ".py",
   "mimetype": "text/x-python",
   "name": "python",
   "nbconvert_exporter": "python",
   "pygments_lexer": "ipython3",
   "version": "3.6.5"
  }
 },
 "nbformat": 4,
 "nbformat_minor": 2
}
