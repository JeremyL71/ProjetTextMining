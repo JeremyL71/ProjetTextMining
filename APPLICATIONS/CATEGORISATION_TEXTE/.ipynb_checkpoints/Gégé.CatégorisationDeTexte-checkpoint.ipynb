{
 "cells": [
  {
   "cell_type": "markdown",
   "metadata": {
    "slideshow": {
     "slide_type": "slide"
    }
   },
   "source": [
    " # CATEGORISATION (SUPERVISEE) DE TEXTE\n",
    " par **Gérome FERRAND**"
   ]
  },
  {
   "cell_type": "markdown",
   "metadata": {
    "slideshow": {
     "slide_type": "slide"
    }
   },
   "source": [
    "Ce document s'inscrit dans le périmètre du projet tutoré de l'un des groupes de la classe d'Année SPEciale de l'IUT Informatique LYON 1.\n",
    "Réunissant :\n",
    "- DUFOUR Alexandre\n",
    "- FERRAND Gérome\n",
    "- LAURENT Jeremy\n",
    "- MOUSSU Nathan\n",
    "- VATON Juliette\n",
    "\n",
    "Ce groupe était placé sous le tutorat de M. VIDAL VINCENT.\n",
    "\n",
    "Ce document représente les travaux de **Gérome FERRAND**, au sujet d'un programme de **catégorisation de texte**.\n",
    "\n",
    "A terme, le code inscrit dans ce document sera ré-employé dans un programme plus conséquent, réunissant les applications suivantes :\n",
    "- Moteur de recherche (affecté à DUFOUR Alexandre)\n",
    "- Détecteur de spams (affecté à LAURENT Jérémy)\n",
    "- Analyseur d'opinion (affecté à VATON Juliette)\n",
    "\n",
    "## Notre OBJECTIF :\n",
    "\n",
    "Le but de cette application est d'associer automatiquement des labels prédéfinis à des textes.<br>\n",
    "Tout au long de ce document, nous allons tenter de mettre en place un programme d'apprentissage automatique, composé de différent classifier. Dans un second temps, nous allons essayer de l'optimiser au maximum, tout en faisant attention de conserver un équilibre entre over- et under- fiting.\n",
    "\n",
    "\n",
    "## A propos du DATASET :\n",
    "\n",
    "N'ayant pas produit de dataset étiqueté, nous allons utiliser le jeu de données 20newsgroups.<br>\n",
    "20newsgroups est une collection de près de 20 000 documents répartis sur 20 thèmes (recueilli par Ken Lang). Cette collection est devenue très populaire parmi les informaticiens désireux de faire des expériences dans le domaine du text mining (et plus particulièrement dans notre cas, la catégorisation de texte).<br>\n",
    "(Nous trouverons plus d'infos sur le dataset ici : http://qwone.com/~jason/20Newsgroups/)\n",
    "\n",
    "\n",
    "## Vers de la DOCUMENTATION COMPLEMENTAIRE :\n",
    "\n",
    "Cette présentation est a été conçu grâce à la documentation du lien ci-dessous :\n",
    "\n",
    "https://scikit-learn.org/stable/tutorial/text_analytics/working_with_text_data.html\n",
    "\n",
    "## Plan du document :\n",
    "\n",
    "1. **Chargement et observation de la composition du dataset**\n",
    "1. **Extraction des features**\n",
    "1. **Entrainement d'un modèle (Classifier Naif Bayésien)**\n",
    "1. **Aperçu des classifiers d'Apprentissage supervisé**\n",
    "    1. **Mise en place de pipeline(Afin d'automatiser l'entrainement des différents classifiers)**\n",
    "    1. **Entrainement, optimisation et évaluation des classifiers**\n",
    "        1. **Classifier Naif Bayésien**\n",
    "        1. **Classifier Descente de Gradient**\n",
    "        1. **Classifier k plus proches voisins**\n",
    "        1. **Classifier Arbres de décisions**\n",
    "        1. **Classifier Forêt Aléatoire**\n",
    "        1. **Classifier Régréssion Logistique**\n",
    "        1. **Classifier Support Vecteur Machines (SVM)**\n",
    "1. **Boosting/méta-modèle (mise en place d'un modèle de vote à majorité simple)**\n",
    "1. **Evaluation du méta-modèle**\n",
    "    1. **Indicateurs de précision**\n",
    "    1. **Matrice de confusion**"
   ]
  },
  {
   "cell_type": "markdown",
   "metadata": {},
   "source": [
    "## 1.Chargement du dataset\n",
    "Regardons le dataset de plus près !"
   ]
  },
  {
   "cell_type": "code",
   "execution_count": 97,
   "metadata": {},
   "outputs": [],
   "source": [
    "#Importation du dataset 20newsgroups depuis la banque de datasets de Scikitlearn\n",
    "from sklearn.datasets import fetch_20newsgroups\n",
    "\n",
    "#Parmi les 20 groupes nous n'allons n'en conserver que 5 (dans un soucis de rapidité)\n",
    "#Nous choisirons des labels assez ambigüe pour l'algorithme afin d'observer comment\n",
    "#les différents classifiers gèreront ces problèmatiques, notamment pour :\n",
    "#atheisme/Christianisme,  hardware PC/hardware mac\n",
    "\n",
    "categories = ['sci.med', 'alt.atheism', 'soc.religion.christian', 'comp.sys.mac.hardware', 'comp.sys.ibm.pc.hardware']\n",
    "\n",
    "#On récupère la partie \"train\" (déjà splité avec la partie \"test\") du dataset,\n",
    "# en ne prenant que les 5 catégories mentionné au dessus, et on mélange le tout !\n",
    "\n",
    "twenty_train = fetch_20newsgroups(subset='train', categories=categories, shuffle=True)"
   ]
  },
  {
   "cell_type": "code",
   "execution_count": 3,
   "metadata": {},
   "outputs": [
    {
     "data": {
      "text/plain": [
       "['alt.atheism',\n",
       " 'comp.sys.ibm.pc.hardware',\n",
       " 'comp.sys.mac.hardware',\n",
       " 'sci.med',\n",
       " 'soc.religion.christian']"
      ]
     },
     "execution_count": 3,
     "metadata": {},
     "output_type": "execute_result"
    }
   ],
   "source": [
    "# On peut vérifier les \"targets\" présentes dans la partie \"train\"\n",
    "twenty_train.target_names"
   ]
  },
  {
   "cell_type": "code",
   "execution_count": 4,
   "metadata": {},
   "outputs": [
    {
     "name": "stdout",
     "output_type": "stream",
     "text": [
      "From: rousseaua@immunex.com\n",
      "Subject: Re: Lactose intolerance\n",
      "Organization: Immunex Corporation, Seattle, WA\n",
      "Lines: 27\n",
      "\n",
      "In article <1993Apr5.165716.59@immunex.com>, rousseaua@immunex.com writes:\n",
      "> In article <ng4.733990422@husc.harvard.edu>, ng4@husc11.harvard.edu (Ho Leung Ng) writes:\n",
      ">> \n",
      ">>    When I was a kid in primary school, I used to drink tons of milk without\n",
      ">> any problems.  However, nowadays, I can hardly drink any at all without\n",
      ">> experiencing some discomfort.  What could be responsible for the change?\n",
      ">> \n",
      ">> Ho Leung Ng\n",
      ">> ng4@husc.harvard.edu\n",
      "\n",
      "sci.med\n"
     ]
    }
   ],
   "source": [
    "#Pour constater la constitution d'une unité du dataset, nous pouvons jeter un oeil aux 15 premières lignes\n",
    "#du document 569 (random), accompagné de son label\n",
    "\n",
    "print(\"\\n\".join(twenty_train.data[569].split(\"\\n\")[:15]))\n",
    "print(twenty_train.target_names[twenty_train.target[569]])"
   ]
  },
  {
   "cell_type": "code",
   "execution_count": 5,
   "metadata": {},
   "outputs": [
    {
     "data": {
      "text/plain": [
       "array([0, 4, 2, 4, 3, 2, 4, 2, 4, 4, 1, 3, 1, 1, 2, 3, 1, 3, 4, 2],\n",
       "      dtype=int64)"
      ]
     },
     "execution_count": 5,
     "metadata": {},
     "output_type": "execute_result"
    }
   ],
   "source": [
    "#Observons les labels des 20 premiers documents...\n",
    "twenty_train.target[:20]\n",
    "\n",
    "#Comme on peut le constater, les labels sont contenus sous la forme d'entier...\n",
    "#En effet, les labels sont représentés automatiquement sous cette forme afin d'optimiser le temps de calcul\n",
    "#0 : Athéisme ; 1 : PC-Hardware ; 2 : MAC-Hardware ; 3 : Médical ; 4 : Christianisme"
   ]
  },
  {
   "cell_type": "code",
   "execution_count": 6,
   "metadata": {},
   "outputs": [
    {
     "name": "stdout",
     "output_type": "stream",
     "text": [
      "alt.atheism\n",
      "soc.religion.christian\n",
      "comp.sys.mac.hardware\n",
      "soc.religion.christian\n",
      "sci.med\n",
      "comp.sys.mac.hardware\n",
      "soc.religion.christian\n",
      "comp.sys.mac.hardware\n",
      "soc.religion.christian\n",
      "soc.religion.christian\n",
      "comp.sys.ibm.pc.hardware\n",
      "sci.med\n",
      "comp.sys.ibm.pc.hardware\n",
      "comp.sys.ibm.pc.hardware\n",
      "comp.sys.mac.hardware\n",
      "sci.med\n",
      "comp.sys.ibm.pc.hardware\n",
      "sci.med\n",
      "soc.religion.christian\n",
      "comp.sys.mac.hardware\n"
     ]
    }
   ],
   "source": [
    "#On peut néanmoins les afficher sous leur forme originelle, et ce grâce à un tableau de correspondance\n",
    "\n",
    "for t in twenty_train.target[:20]:\n",
    "    print(twenty_train.target_names[t])"
   ]
  },
  {
   "cell_type": "markdown",
   "metadata": {},
   "source": [
    "## 2.Extraction des features\n",
    "On va ici effectuer un pre-processing sur chacun de nos documents afin de les transformer en tableau, en features.<br>\n",
    "L'objet de ce document n'étant pas axé sur la partie noyau, nous allons utiliser 2 fonctions depuis la librairie Scikit-Learn :<br>\n",
    "(Le code final utilisera les travaux effectués en amont concernant le Noyau)<br>\n",
    "\n",
    "Concernant la doc sur les fonction que nous allons utiliser ici :<br>\n",
    "\n",
    "**CountVectorizer** :\n",
    "\n",
    "https://scikit-learn.org/stable/modules/generated/sklearn.feature_extraction.text.CountVectorizer.html\n",
    "\n",
    "**TfidfTransformer** :\n",
    "\n",
    "https://scikit-learn.org/stable/modules/generated/sklearn.feature_extraction.text.TfidfTransformer.html"
   ]
  },
  {
   "cell_type": "code",
   "execution_count": 7,
   "metadata": {},
   "outputs": [
    {
     "data": {
      "text/plain": [
       "(2841, 38739)"
      ]
     },
     "execution_count": 7,
     "metadata": {},
     "output_type": "execute_result"
    }
   ],
   "source": [
    "#Importation de CountVectorizer (qui donne une représentation de type Bag of Words)\n",
    "from sklearn.feature_extraction.text import CountVectorizer\n",
    "\n",
    "#Rappel :\n",
    "# Cette fonction va nous permettre de générer un tableau constitué :\n",
    "# pour les Colonnes : un dictionnaire des mots contenus dans l'ensemble du corpus (partie train),\n",
    "# pour les lignes : les documents constituant le corpus.\n",
    "# Pour chaque éléments du tableau, La fonction compte le nombre d'occurence du mots de la colonne\n",
    "# contenues dans le texte de la ligne.\n",
    "\n",
    "count_vect = CountVectorizer()\n",
    "X_train_counts = count_vect.fit_transform(twenty_train.data)\n",
    "X_train_counts.shape\n",
    "\n",
    "#On a donc ici une matrice de 2841 lignes/documents pour 38739 colonnes/mots\n",
    "\n",
    "# La matrice ainsi générée sera une matrice constituée principalement de zéro\n",
    "# (en effet, un texte ne comprant pas tous les mots du dictionnaire...).\n",
    "# Afin de réduire le poids de la matrice, tant d'un points de vue mémorielle que computationelle,\n",
    "# elle sera conservé sous la forme d'une sparses matrices (matrice creuse en français) mis à disposition par la\n",
    "# librairie Scipy"
   ]
  },
  {
   "cell_type": "code",
   "execution_count": 9,
   "metadata": {},
   "outputs": [
    {
     "data": {
      "text/plain": [
       "(2841, 38739)"
      ]
     },
     "execution_count": 9,
     "metadata": {},
     "output_type": "execute_result"
    }
   ],
   "source": [
    "# Dans la suite logique de countVectorizer,\n",
    "# on importe la partie TF-IDF\n",
    "from sklearn.feature_extraction.text import TfidfTransformer\n",
    "\n",
    "# On calcule la fréquence des termes TF (= Nb d'un terme donné/nombre total de termes du document),\n",
    "# et ce pour chaque mots du documents.\n",
    "# Cela permet de conserver une cohérence de l'importance des mots dans un textes malgré la taille du document\n",
    "tfidf_transformer = TfidfTransformer(use_idf=False).fit(X_train_counts)\n",
    "X_train_tfidf = tfidf_transformer.transform(X_train_counts)\n",
    "X_train_tfidf.shape\n",
    "\n",
    "#Evidemment, on conserve une matrice de même forme"
   ]
  },
  {
   "cell_type": "markdown",
   "metadata": {},
   "source": [
    "## 3.Entrainement du modèle\n",
    "Maintenant que nous avons pré-traiter les documents de la partie training, la magie peut commencer !"
   ]
  },
  {
   "cell_type": "code",
   "execution_count": 11,
   "metadata": {},
   "outputs": [],
   "source": [
    "# Commençons par le classifier Naif Bayésien,\n",
    "# parmi tout les classifiers existant,\n",
    "# il semblerait que le multinomialNB soit le plus approprié à la catégorisation de mots.\n",
    "# Importons-le..\n",
    "\n",
    "from sklearn.naive_bayes import MultinomialNB\n",
    "\n",
    "# Nourrissons notre modèle avec notre X et notre Y\n",
    "\n",
    "clf = MultinomialNB().fit(X_train_tfidf, twenty_train.target)"
   ]
  },
  {
   "cell_type": "code",
   "execution_count": 98,
   "metadata": {},
   "outputs": [
    {
     "name": "stdout",
     "output_type": "stream",
     "text": [
      "'God bless America' -> soc.religion.christian\n",
      "'I compute faster than a GPU' -> comp.sys.ibm.pc.hardware\n",
      "'Guilhem is a cancer !' -> sci.med\n"
     ]
    }
   ],
   "source": [
    "# Procédons désormais à quelques tests afin de voir comment notre modèle réagit\n",
    "# Pour cela, on peut écrire 3 phrases tout à fait random... puis leur appliquer notre classifier\n",
    "\n",
    "docs_new = ['God bless America', 'I compute faster than a GPU', \"Guilhem is a cancer !\"]\n",
    "\n",
    "X_new_counts = count_vect.transform(docs_new)\n",
    "X_new_tfidf = tfidf_transformer.transform(X_new_counts)\n",
    "\n",
    "predicted = clf.predict(X_new_tfidf)\n",
    "\n",
    "for doc, category in zip(docs_new, predicted):\n",
    "    print('%r -> %s' % (doc, twenty_train.target_names[category]))"
   ]
  },
  {
   "cell_type": "markdown",
   "metadata": {},
   "source": [
    "## 4.Création d'un Pipeline\n",
    "On peut créer un pipeline afin de tester plusieurs algo et les comparer "
   ]
  },
  {
   "cell_type": "code",
   "execution_count": 101,
   "metadata": {},
   "outputs": [
    {
     "data": {
      "text/plain": [
       "0.8417989417989418"
      ]
     },
     "execution_count": 101,
     "metadata": {},
     "output_type": "execute_result"
    }
   ],
   "source": [
    "#Cette fonction pipeline, mise en place par Scikit-learn nous permet de mettre à la suite\n",
    "# les différentes étapes de notre. Ici : Vectorisation -> TF -> Classifier\n",
    "\n",
    "from sklearn.pipeline import Pipeline\n",
    "\n",
    "text_clf = Pipeline([\n",
    "    ('tovect', CountVectorizer()),\n",
    "    ('tfidf', TfidfTransformer()),\n",
    "    ('clf', MultinomialNB()),\n",
    "])\n",
    "\n",
    "text_clf.fit(twenty_train.data, twenty_train.target)\n",
    "np.mean(text_clf.predict(docs_test) == twenty_test.target)"
   ]
  },
  {
   "cell_type": "markdown",
   "metadata": {},
   "source": [
    "## 5. Evaluation de la Crédibilité du modèle\n",
    "Documentation sur les différent classifieur que nous allors utiliser dans ce programme de test :\n",
    "\n",
    "https://scikit-learn.org/stable/supervised_learning.html#supervised-learning\n"
   ]
  },
  {
   "cell_type": "markdown",
   "metadata": {},
   "source": [
    "### 5.1. Classifieur Naïf Bayésien (MultinomialNB -> modèle utilisé précédemment)\n",
    "###### Documentation sur le classifier Naïf Bayésien : \n",
    "\n",
    "Documentation sur la partie Théorique de les modèles Naïf Bayésien :\n",
    "\n",
    "https://scikit-learn.org/stable/modules/naive_bayes.html\n",
    "\n",
    "Documentation sur la fonction MultinomialNB() :\n",
    "\n",
    "https://scikit-learn.org/stable/modules/generated/sklearn.naive_bayes.MultinomialNB.html"
   ]
  },
  {
   "cell_type": "code",
   "execution_count": 14,
   "metadata": {},
   "outputs": [
    {
     "data": {
      "text/plain": [
       "0.8417989417989418"
      ]
     },
     "execution_count": 14,
     "metadata": {},
     "output_type": "execute_result"
    }
   ],
   "source": [
    "#On va à présent procédé à l'évaluation de notre modèle\n",
    "import numpy as np\n",
    "\n",
    "twenty_test = fetch_20newsgroups(subset='test', categories=categories, shuffle=True)\n",
    "docs_test = twenty_test.data\n",
    "\n",
    "predicted = text_clf.predict(docs_test)\n",
    "np.mean(predicted == twenty_test.target) "
   ]
  },
  {
   "cell_type": "markdown",
   "metadata": {},
   "source": [
    "### Concernant l'algorithme MultinomialNB\n",
    "il contient 3 hyperparamètres :\n",
    "###### Alpha(range, !=0) : float\n",
    "    Ce parametre permet de lisser ???????????(faire des recherches)???????????\n",
    "    The smoothing priors [a>= 0] accounts for features not present in the learning samples and prevents zero probabilities in further computations. Setting [a=1] is called Laplace smoothing, while [a<1] is called Lidstone smoothing.\n",
    "\n",
    "###### 2 autres parametres :(fit_prior(booleen) et class prior(array vect-label))\n",
    "    Ils permettent de gérer les priorités des différents labels.\n",
    "    Etant donné que je prefere conserver une équité parmi mes classes, je ne les utiliserai pas."
   ]
  },
  {
   "cell_type": "code",
   "execution_count": 15,
   "metadata": {
    "scrolled": true
   },
   "outputs": [
    {
     "data": {
      "image/png": "[encoded data removed]",
      "text/plain": [
       "<Figure size 432x288 with 1 Axes>"
      ]
     },
     "metadata": {
      "needs_background": "light"
     },
     "output_type": "display_data"
    }
   ],
   "source": [
    "#Test sur le classifieur naïf Bayésien\n",
    "import matplotlib.pyplot as plt\n",
    "import numpy as np\n",
    "\n",
    "def testNBParamAlpha(x):\n",
    "    text_clf = Pipeline([\n",
    "        ('tovect', CountVectorizer()),\n",
    "        ('tfidf', TfidfTransformer()),\n",
    "        ('clf', MultinomialNB(alpha=x)),\n",
    "    ])\n",
    "    text_clf.fit(twenty_train.data, twenty_train.target)  \n",
    "    return(np.mean(text_clf.predict(docs_test) == twenty_test.target))\n",
    "\n",
    "#panorama des maxima de la courbe\n",
    "#x=np.arange(0.001, 0.08, 0.001)\n",
    "\n",
    "x=np.arange(0.001, 0.1, 0.001)#attention temps de calcul long (~5min)\n",
    "y=[testNBParamAlpha(r) for r in x]\n",
    "\n",
    "plt.plot(x, y)\n",
    "plt.title(\"Optimisation Clf NB\")\n",
    "plt.xlabel(\"lissage de Lidstone\")\n",
    "plt.ylabel(\"Taux moyen de réussite\")\n",
    "plt.show()"
   ]
  },
  {
   "cell_type": "code",
   "execution_count": 16,
   "metadata": {},
   "outputs": [
    {
     "data": {
      "text/plain": [
       "0.9169312169312169"
      ]
     },
     "execution_count": 16,
     "metadata": {},
     "output_type": "execute_result"
    }
   ],
   "source": [
    "#D'après la courbe ci dessus, on peut observer plusieurs maxima, nous prendrons par exemple alpha = 0.035\n",
    "def ClfNB():\n",
    "    text_clf = Pipeline([\n",
    "        ('tovect', CountVectorizer()),\n",
    "        ('tfidf', TfidfTransformer()),\n",
    "        ('clf', MultinomialNB(alpha=0.035)),\n",
    "    ])\n",
    "    text_clf.fit(twenty_train.data, twenty_train.target)  \n",
    "    return(np.mean(text_clf.predict(docs_test) == twenty_test.target))\n",
    "\n",
    "ClfNB()"
   ]
  },
  {
   "cell_type": "markdown",
   "metadata": {},
   "source": [
    "### 5.2. Classifieur par descente de gradients\n",
    "###### Documentation sur les Descente de Gradient : \n",
    "\n",
    "Documentation sur la partie Théorique de la Descente de Gradients :\n",
    "\n",
    "https://scikit-learn.org/stable/modules/sgd.html\n",
    "\n",
    "Documentation sur la fonction SGDClassifier() :\n",
    "\n",
    "https://scikit-learn.org/stable/modules/generated/sklearn.linear_model.SGDClassifier.html"
   ]
  },
  {
   "cell_type": "markdown",
   "metadata": {},
   "source": [
    "### Concernant l'algorithme de Descente de gradients\n",
    "il contient 22 hyperparamètres... :\n",
    "\n",
    "###### loss : str, default: ‘hinge’\n",
    "\n",
    "    The loss function to be used. Defaults to ‘hinge’.\n",
    "\n",
    "    The possible options are ‘hinge’, ‘log’, ‘modified_huber’, ‘squared_hinge’, ‘perceptron’, or a regression loss: ‘squared_loss’, ‘huber’, ‘epsilon_insensitive’, or ‘squared_epsilon_insensitive’.\n",
    "\n",
    "    ‘hinge’ loss gives a linear SVM.\n",
    "    ‘log’ loss gives logistic regression, a probabilistic classifier.\n",
    "    ‘modified_huber’ is another smooth loss that brings tolerance to outliers as well as probability estimates.\n",
    "    ‘squared_hinge’ is like hinge but is quadratically penalized.\n",
    "    ‘perceptron’ is the linear loss used by the perceptron algorithm.\n",
    "    The other losses are designed for regression but can be useful in classification as well; see SGDRegressor for a description.\n",
    "###### penalty : str, ‘none’, ‘l2’, ‘l1’, or ‘elasticnet’\n",
    "\n",
    "    The penalty (aka regularization term) to be used. Defaults to ‘l2’ which is the standard regularizer for linear SVM models. ‘l1’ and ‘elasticnet’ might bring sparsity to the model (feature selection) not achievable with ‘l2’.\n",
    "###### alpha : float\n",
    "\n",
    "    Constant that multiplies the regularization term. Defaults to 0.0001 Also used to compute learning_rate when set to ‘optimal’.\n",
    "###### l1_ratio : float\n",
    "\n",
    "    The Elastic Net mixing parameter, with 0 <= l1_ratio <= 1. l1_ratio=0 corresponds to L2 penalty, l1_ratio=1 to L1. Defaults to 0.15.\n",
    "###### fit_intercept : bool\n",
    "\n",
    "    Whether the intercept should be estimated or not. If False, the data is assumed to be already centered. Defaults to True.\n",
    "###### max_iter : int, optional\n",
    "\n",
    "    The maximum number of passes over the training data (aka epochs). It only impacts the behavior in the fit method, and not the partial_fit. Defaults to 5. Defaults to 1000 from 0.21, or if tol is not None.\n",
    "\n",
    "    New in version 0.19.\n",
    "###### tol : float or None, optional\n",
    "\n",
    "    The stopping criterion. If it is not None, the iterations will stop when (loss > previous_loss - tol). Defaults to None. Defaults to 1e-3 from 0.21.\n",
    "\n",
    "    New in version 0.19.\n",
    "###### shuffle : bool, optional\n",
    "\n",
    "    Whether or not the training data should be shuffled after each epoch. Defaults to True.\n",
    "###### verbose : integer, optional\n",
    "\n",
    "    The verbosity level\n",
    "###### epsilon : float\n",
    "\n",
    "    Epsilon in the epsilon-insensitive loss functions; only if loss is ‘huber’, ‘epsilon_insensitive’, or ‘squared_epsilon_insensitive’. For ‘huber’, determines the threshold at which it becomes less important to get the prediction exactly right. For epsilon-insensitive, any differences between the current prediction and the correct label are ignored if they are less than this threshold.\n",
    "###### n_jobs : int or None, optional (default=None)\n",
    "\n",
    "    The number of CPUs to use to do the OVA (One Versus All, for multi-class problems) computation. None means 1 unless in a joblib.parallel_backend context. -1 means using all processors. See Glossary for more details.\n",
    "###### random_state : int, RandomState instance or None, optional (default=None)\n",
    "\n",
    "    The seed of the pseudo random number generator to use when shuffling the data. If int, random_state is the seed used by the random number generator; If RandomState instance, random_state is the random number generator; If None, the random number generator is the RandomState instance used by np.random.\n",
    "###### learning_rate : string, optional\n",
    "\n",
    "    The learning rate schedule:\n",
    "\n",
    "    ‘constant’:\n",
    "\n",
    "        eta = eta0\n",
    "    ‘optimal’: [default]\n",
    "\n",
    "        eta = 1.0 / (alpha * (t + t0)) where t0 is chosen by a heuristic proposed by Leon Bottou.\n",
    "    ‘invscaling’:\n",
    "\n",
    "        eta = eta0 / pow(t, power_t)\n",
    "    ‘adaptive’:\n",
    "\n",
    "        eta = eta0, as long as the training keeps decreasing. Each time n_iter_no_change consecutive epochs fail to decrease the training loss by tol or fail to increase validation score by tol if early_stopping is True, the current learning rate is divided by 5.\n",
    "\n",
    "###### eta0 : double\n",
    "\n",
    "    The initial learning rate for the ‘constant’, ‘invscaling’ or ‘adaptive’ schedules. The default value is 0.0 as eta0 is not used by the default schedule ‘optimal’.\n",
    "###### power_t : double\n",
    "\n",
    "    The exponent for inverse scaling learning rate [default 0.5].\n",
    "###### early_stopping : bool, default=False\n",
    "\n",
    "    Whether to use early stopping to terminate training when validation score is not improving. If set to True, it will automatically set aside a fraction of training data as validation and terminate training when validation score is not improving by at least tol for n_iter_no_change consecutive epochs.\n",
    "\n",
    "    New in version 0.20.\n",
    "###### validation_fraction : float, default=0.1\n",
    "\n",
    "    The proportion of training data to set aside as validation set for early stopping. Must be between 0 and 1. Only used if early_stopping is True.\n",
    "\n",
    "    New in version 0.20.\n",
    "###### n_iter_no_change : int, default=5\n",
    "\n",
    "    Number of iterations with no improvement to wait before early stopping.\n",
    "\n",
    "    New in version 0.20.\n",
    "###### class_weight : dict, {class_label: weight} or “balanced” or None, optional\n",
    "\n",
    "    Preset for the class_weight fit parameter.\n",
    "\n",
    "    Weights associated with classes. If not given, all classes are supposed to have weight one.\n",
    "\n",
    "    The “balanced” mode uses the values of y to automatically adjust weights inversely proportional to class frequencies in the input data as n_samples / (n_classes * np.bincount(y))\n",
    "###### warm_start : bool, optional\n",
    "\n",
    "    When set to True, reuse the solution of the previous call to fit as initialization, otherwise, just erase the previous solution. See the Glossary.\n",
    "\n",
    "    Repeatedly calling fit or partial_fit when warm_start is True can result in a different solution than when calling fit a single time because of the way the data is shuffled. If a dynamic learning rate is used, the learning rate is adapted depending on the number of samples already seen. Calling fit resets this counter, while partial_fit will result in increasing the existing counter.\n",
    "###### average : bool or int, optional\n",
    "\n",
    "    When set to True, computes the averaged SGD weights and stores the result in the coef_ attribute. If set to an int greater than 1, averaging will begin once the total number of samples seen reaches average. So average=10 will begin averaging after seeing 10 samples.\n",
    "###### n_iter : int, optional\n",
    "\n",
    "    The number of passes over the training data (aka epochs). Defaults to None. Deprecated, will be removed in 0.21.\n",
    "\n",
    "    Changed in version 0.19: Deprecated\n",
    "\n",
    "    \n",
    "### Maintenant que nous avons passé en revue tous les hyperparamètres et après quelques essaies,\n",
    "nous remarquons que "
   ]
  },
  {
   "cell_type": "code",
   "execution_count": 17,
   "metadata": {},
   "outputs": [
    {
     "name": "stderr",
     "output_type": "stream",
     "text": [
      "C:\\Users\\et8ge\\Anaconda3\\lib\\site-packages\\sklearn\\linear_model\\stochastic_gradient.py:128: FutureWarning: max_iter and tol parameters have been added in <class 'sklearn.linear_model.stochastic_gradient.SGDClassifier'> in 0.19. If both are left unset, they default to max_iter=5 and tol=None. If tol is not None, max_iter defaults to max_iter=1000. From 0.21, default max_iter will be 1000, and default tol will be 1e-3.\n",
      "  \"and default tol will be 1e-3.\" % type(self), FutureWarning)\n"
     ]
    },
    {
     "data": {
      "text/plain": [
       "0.20952380952380953"
      ]
     },
     "execution_count": 17,
     "metadata": {},
     "output_type": "execute_result"
    }
   ],
   "source": [
    "#Importation de la fonction depuis la librairie de SKLearn\n",
    "from sklearn.linear_model import SGDClassifier\n",
    "\n",
    "def ClfSGDC():\n",
    "    text_clf = Pipeline([\n",
    "        ('tovect', CountVectorizer()),\n",
    "        ('tfidf', TfidfTransformer()),\n",
    "        ('clf', SGDClassifier(loss='squared_epsilon_insensitive')),\n",
    "    ])\n",
    "\n",
    "    text_clf.fit(twenty_train.data, twenty_train.target)  \n",
    "\n",
    "    predicted = text_clf.predict(docs_test)\n",
    "    return(np.mean(predicted == twenty_test.target))\n",
    "\n",
    "ClfSGDC()"
   ]
  },
  {
   "cell_type": "code",
   "execution_count": 36,
   "metadata": {},
   "outputs": [
    {
     "name": "stdout",
     "output_type": "stream",
     "text": [
      "'hinge' : 91.64\n",
      "'log' : 90.48\n",
      "'modified_huber' : 91.8\n",
      "'squared_hinge' : 68.2\n",
      "'perceptron' : 84.6\n",
      "'squared_loss' : 18.68\n",
      "'huber' : 90.53\n",
      "'epsilon_insensitive' : 91.59\n",
      "'squared_epsilon_insensitive' : 19.470000000000002\n"
     ]
    }
   ],
   "source": [
    "#Importation de la fonction depuis la librairie de SKLearn\n",
    "from sklearn.linear_model import SGDClassifier\n",
    "\n",
    "# Test des hyperparamètres de la fonction\n",
    "\n",
    "loss=[\"hinge\", \"log\", \"modified_huber\", \"squared_hinge\", \"perceptron\", \"squared_loss\", \"huber\", \"epsilon_insensitive\", \"squared_epsilon_insensitive\"]\n",
    "\n",
    "\n",
    "def ClfSGDC(x):\n",
    "    text_clf = Pipeline([\n",
    "        ('tovect', CountVectorizer()),\n",
    "        ('tfidf', TfidfTransformer()),\n",
    "        ('clf', SGDClassifier(loss=x, max_iter=100, tol=None)),\n",
    "    ])\n",
    "\n",
    "    text_clf.fit(twenty_train.data, twenty_train.target)  \n",
    "\n",
    "    predicted = text_clf.predict(docs_test)\n",
    "    return(np.around(np.mean(predicted == twenty_test.target), 4)*100)\n",
    "\n",
    "y=[ClfSGDC(x) for x in loss]\n",
    "\n",
    "for n, p in zip (loss, y) :\n",
    "    print('%r : %s' % (n, p))"
   ]
  },
  {
   "cell_type": "code",
   "execution_count": 19,
   "metadata": {},
   "outputs": [
    {
     "data": {
      "text/plain": [
       "0.9058201058201059"
      ]
     },
     "execution_count": 19,
     "metadata": {},
     "output_type": "execute_result"
    }
   ],
   "source": [
    "#Importation de la fonction depuis la librairie de SKLearn\n",
    "from sklearn.linear_model import SGDClassifier\n",
    "\n",
    "def ClfSGDC():\n",
    "    text_clf = Pipeline([\n",
    "        ('tovect', CountVectorizer()),\n",
    "        ('tfidf', TfidfTransformer()),\n",
    "        ('clf', SGDClassifier(loss='hinge', penalty='l2', alpha=1e-3, random_state=42, max_iter=100, tol=None)),\n",
    "    ])\n",
    "\n",
    "    text_clf.fit(twenty_train.data, twenty_train.target)  \n",
    "\n",
    "    predicted = text_clf.predict(docs_test)\n",
    "    return(np.mean(predicted == twenty_test.target))\n",
    "\n",
    "ClfSGDC()"
   ]
  },
  {
   "cell_type": "code",
   "execution_count": null,
   "metadata": {},
   "outputs": [],
   "source": []
  },
  {
   "cell_type": "markdown",
   "metadata": {},
   "source": [
    "### 5.3. K-NN\n",
    "###### Documentation sur le k-Nearest Neighbors : \n",
    "\n",
    "Documentation sur la partie Théorique du k-NN :\n",
    "\n",
    "https://scikit-learn.org/stable/modules/neighbors.html\n",
    "\n",
    "Documentation sur la fonction KNeighborsClassifier() :\n",
    "\n",
    "https://scikit-learn.org/stable/modules/generated/sklearn.neighbors.KNeighborsClassifier.html"
   ]
  },
  {
   "cell_type": "markdown",
   "metadata": {},
   "source": [
    "### Concernant l'algorithme K-NN\n",
    "il contient 8 hyperparamètres :\n",
    "###### n_neighbors (!=0) : int\n",
    "    Ce parametre permet de définir le nombre de cluster que nous allons lancé par l'algo\n",
    "\n",
    "###### weights : 'uniform'(par défaut)/'distance'/'callable'\n",
    "    Permet de gérer la pondération des différents points par rapport à leur k.\n",
    "        'uniform' : Possibilité de choisir entre une pondération uniforme (par défaut),\n",
    "        'distance' : pondéré par l'inverse de leur distance à k (donnant ainsi plus de poids au points les plus proche de k).\n",
    "        'calable' : permet de personaliser les pondération en émettant un array en supplément du mot clé.\n",
    "    \n",
    "###### algorithm : 'auto'/''ball_tree/'kd_tree'/'brute' \n",
    "    permet d'utiliser différentes méthodes de calcul des k-NN.\n",
    "        'auto' : méthode standard\n",
    "        'ball_tree' : utilise la méthode ball tree\n",
    "        (Doc : https://scikit-learn.org/stable/modules/generated/sklearn.neighbors.BallTree.html#sklearn.neighbors.BallTree)\n",
    "        'kd_tree' : utilise la méthode kd tree\n",
    "        (Doc : https://scikit-learn.org/stable/modules/generated/sklearn.neighbors.KDTree.html#sklearn.neighbors.KDTree)\n",
    "        'brute' : utilise une méthode de recherche de type force_brute...\n",
    "    \n",
    "###### leaf_size : int\n",
    "    Il s'agit ici de paramètres pour les méthodes de type ball-tree ou kd-tree. Ce paramètre permet d'optimiser le temps de calcul des méthodes précédentes.\n",
    "    \n",
    "###### p : int (1,2)\n",
    "    Permet de gérer la facon de calculer les distances entre les points et leur k.\n",
    "    1 permet d'utiliser la méthode de Manhattan, tandis que le 2 permet d'utiliser la méthode Euclidienne.\n",
    "    \n",
    "###### metric : string or callable\n",
    "    toujours en relation avec les méthodes d'arbre ball ou kd, ce paramètre permet de gérer les métriques de distance entre les points et leur k.\n",
    "    \n",
    "###### metric_params : dictionnaire\n",
    "    s'ajoute en complément du paramètre metric.\n",
    "    \n",
    "###### n_jobs : int\n",
    "    permet de paralléliser les taches entre les différents processeurs.\n",
    "    \n",
    "### Maintenant que nous avons passé en revue tous les hyperparamètres et après quelques essaies,\n",
    "nous remarquons que les seuls utilisables sont le nb de k, les poids (distance ou uniform), algo (uniquement : brute)\n",
    "    "
   ]
  },
  {
   "cell_type": "code",
   "execution_count": 48,
   "metadata": {},
   "outputs": [
    {
     "data": {
      "image/png": "[encoded data removed]",
      "text/plain": [
       "<Figure size 432x288 with 1 Axes>"
      ]
     },
     "metadata": {},
     "output_type": "display_data"
    }
   ],
   "source": [
    "#Importation de la fonction depuis la librairie de SKLearn\n",
    "from sklearn.neighbors import KNeighborsClassifier\n",
    "\n",
    "def testKNNParamK(x):\n",
    "    text_clf = Pipeline([\n",
    "        ('tovect', CountVectorizer()),\n",
    "        ('tfidf', TfidfTransformer()),\n",
    "        ('clf', KNeighborsClassifier(n_neighbors = x, weights = 'distance'))])\n",
    "    text_clf.fit(twenty_train.data, twenty_train.target)  \n",
    "    predicted = text_clf.predict(docs_test)\n",
    "    return(np.mean(predicted == twenty_test.target))\n",
    "\n",
    "x=np.arange(1, 25, 1)\n",
    "y=[testKNNParamK(r) for r in x]\n",
    "\n",
    "plt.plot(x, y)\n",
    "plt.title(\"kNN : Optimisation  du nombre de k\")\n",
    "plt.xlabel(\"nb de clusters (=k)\")\n",
    "plt.ylabel(\"Taux moyen de réussite\")\n",
    "plt.show()\n",
    "\n",
    "# Supposition : En effet, on peut prédire le résultat de la courbe ci-dessous.\n",
    "# Les vecteurs de textes correspondant à un label en particulier seront mieux ciblés par un unique k.\n",
    "# De toute façon, au vue des réultats, il semblerait que la méthode kNN ne soit pas adaptée à notre problème !\n",
    "\n",
    "# que l'on utilise des poids uniform ou en fonction des distances, le maximum en k=1 est le même (77.35%)."
   ]
  },
  {
   "cell_type": "code",
   "execution_count": 50,
   "metadata": {},
   "outputs": [
    {
     "name": "stdout",
     "output_type": "stream",
     "text": [
      "1 : 0.77\n",
      "2 : 0.77\n",
      "3 : 0.76\n",
      "4 : 0.75\n",
      "5 : 0.75\n"
     ]
    }
   ],
   "source": [
    "r=[1,2,3,4,5] #Valeur de k\n",
    "\n",
    "y=[np.around(testKNNParamK(x),2) for x in r]\n",
    "\n",
    "for n, p in zip (r, y) :\n",
    "    print('%r : %s' % (n, p))"
   ]
  },
  {
   "cell_type": "code",
   "execution_count": 21,
   "metadata": {},
   "outputs": [
    {
     "data": {
      "text/plain": [
       "0.7735449735449735"
      ]
     },
     "execution_count": 21,
     "metadata": {},
     "output_type": "execute_result"
    }
   ],
   "source": [
    "def ClfKnn():\n",
    "    text_clf = Pipeline([\n",
    "        ('tovect', CountVectorizer()),\n",
    "        ('tfidf', TfidfTransformer()),\n",
    "        ('clf', KNeighborsClassifier(n_neighbors = 1, weights = 'uniform'))])\n",
    "\n",
    "    text_clf.fit(twenty_train.data, twenty_train.target)  \n",
    "    predicted = text_clf.predict(docs_test)\n",
    "    return(np.mean(predicted == twenty_test.target))\n",
    "\n",
    "ClfKnn()"
   ]
  },
  {
   "cell_type": "markdown",
   "metadata": {},
   "source": [
    "### 5.4. Arbre de décision\n",
    "###### Documentation sur les Arbres de décisisons : \n",
    "\n",
    "Documentation sur la partie Théorique des Arbres de décisions :\n",
    "\n",
    "https://scikit-learn.org/stable/modules/tree.html\n",
    "\n",
    "Documentation sur la fonction DecisionTreeClassifier() :\n",
    "\n",
    "https://scikit-learn.org/stable/modules/generated/sklearn.tree.DecisionTreeClassifier.html"
   ]
  },
  {
   "cell_type": "markdown",
   "metadata": {},
   "source": [
    "### Concernant l'Arbre de décision\n",
    "il contient 13 hyperparamètres :\n",
    "\n",
    "\n",
    "#### criterion : string, optional (default=”gini”)\n",
    "\n",
    "    The function to measure the quality of a split. Supported criteria are “gini” for the Gini impurity and “entropy” for the information gain.\n",
    "#### splitter : string, optional (default=”best”)\n",
    "\n",
    "    The strategy used to choose the split at each node. Supported strategies are “best” to choose the best split and “random” to choose the best random split.\n",
    "#### max_depth : int or None, optional (default=None)\n",
    "\n",
    "    The maximum depth of the tree. If None, then nodes are expanded until all leaves are pure or until all leaves contain less than min_samples_split samples.\n",
    "#### min_samples_split : int, float, optional (default=2)\n",
    "\n",
    "    The minimum number of samples required to split an internal node:\n",
    "\n",
    "        If int, then consider min_samples_split as the minimum number.\n",
    "        If float, then min_samples_split is a fraction and ceil(min_samples_split * n_samples) are the minimum number of samples for each split.\n",
    "\n",
    "    Changed in version 0.18: Added float values for fractions.\n",
    "#### min_samples_leaf : int, float, optional (default=1)\n",
    "\n",
    "    The minimum number of samples required to be at a leaf node. A split point at any depth will only be considered if it leaves at least min_samples_leaf training samples in each of the left and right branches. This may have the effect of smoothing the model, especially in regression.\n",
    "\n",
    "        If int, then consider min_samples_leaf as the minimum number.\n",
    "        If float, then min_samples_leaf is a fraction and ceil(min_samples_leaf * n_samples) are the minimum number of samples for each node.\n",
    "\n",
    "    Changed in version 0.18: Added float values for fractions.\n",
    "#### min_weight_fraction_leaf : float, optional (default=0.)\n",
    "\n",
    "    The minimum weighted fraction of the sum total of weights (of all the input samples) required to be at a leaf node. Samples have equal weight when sample_weight is not provided.\n",
    "#### max_features : int, float, string or None, optional (default=None)\n",
    "\n",
    "    The number of features to consider when looking for the best split:\n",
    "\n",
    "            If int, then consider max_features features at each split.\n",
    "            If float, then max_features is a fraction and int(max_features * n_features) features are considered at each split.\n",
    "            If “auto”, then max_features=sqrt(n_features).\n",
    "            If “sqrt”, then max_features=sqrt(n_features).\n",
    "            If “log2”, then max_features=log2(n_features).\n",
    "            If None, then max_features=n_features.\n",
    "\n",
    "    Note: the search for a split does not stop until at least one valid partition of the node samples is found, even if it requires to effectively inspect more than max_features features.\n",
    "#### random_state : int, RandomState instance or None, optional (default=None)\n",
    "\n",
    "    If int, random_state is the seed used by the random number generator; If RandomState instance, random_state is the random number generator; If None, the random number generator is the RandomState instance used by np.random.\n",
    "#### max_leaf_nodes : int or None, optional (default=None)\n",
    "\n",
    "    Grow a tree with max_leaf_nodes in best-first fashion. Best nodes are defined as relative reduction in impurity. If None then unlimited number of leaf nodes.\n",
    "#### min_impurity_decrease : float, optional (default=0.)\n",
    "\n",
    "    A node will be split if this split induces a decrease of the impurity greater than or equal to this value.\n",
    "\n",
    "    The weighted impurity decrease equation is the following:\n",
    "\n",
    "    N_t / N * (impurity - N_t_R / N_t * right_impurity\n",
    "                        - N_t_L / N_t * left_impurity)\n",
    "\n",
    "    where N is the total number of samples, N_t is the number of samples at the current node, N_t_L is the number of samples in the left child, and N_t_R is the number of samples in the right child.\n",
    "\n",
    "    N, N_t, N_t_R and N_t_L all refer to the weighted sum, if sample_weight is passed.\n",
    "\n",
    "    New in version 0.19.\n",
    "#### min_impurity_split : float, (default=1e-7)\n",
    "\n",
    "    Threshold for early stopping in tree growth. A node will split if its impurity is above the threshold, otherwise it is a leaf.\n",
    "\n",
    "    Deprecated since version 0.19: min_impurity_split has been deprecated in favor of min_impurity_decrease in 0.19. The default value of min_impurity_split will change from 1e-7 to 0 in 0.23 and it will be removed in 0.25. Use min_impurity_decrease instead.\n",
    "#### class_weight : dict, list of dicts, “balanced” or None, default=None\n",
    "\n",
    "    Weights associated with classes in the form {class_label: weight}. If not given, all classes are supposed to have weight one. For multi-output problems, a list of dicts can be provided in the same order as the columns of y.\n",
    "\n",
    "    Note that for multioutput (including multilabel) weights should be defined for each class of every column in its own dict. For example, for four-class multilabel classification weights should be [{0: 1, 1: 1}, {0: 1, 1: 5}, {0: 1, 1: 1}, {0: 1, 1: 1}] instead of [{1:1}, {2:5}, {3:1}, {4:1}].\n",
    "\n",
    "    The “balanced” mode uses the values of y to automatically adjust weights inversely proportional to class frequencies in the input data as n_samples / (n_classes * np.bincount(y))\n",
    "\n",
    "    For multi-output, the weights of each column of y will be multiplied.\n",
    "\n",
    "    Note that these weights will be multiplied with sample_weight (passed through the fit method) if sample_weight is specified.\n",
    "#### presort : bool, optional (default=False)\n",
    "\n",
    "    Whether to presort the data to speed up the finding of best splits in fitting. For the default settings of a decision tree on large datasets, setting this to true may slow down the training process. When using either a smaller dataset or a restricted depth, this may speed up the training.\n",
    "\n",
    "    \n",
    "### Maintenant que nous avons passé en revue tous les hyperparamètres et après quelques essaies,\n",
    "nous remarquons que "
   ]
  },
  {
   "cell_type": "code",
   "execution_count": 80,
   "metadata": {},
   "outputs": [
    {
     "data": {
      "text/plain": [
       "0.7084656084656085"
      ]
     },
     "execution_count": 80,
     "metadata": {},
     "output_type": "execute_result"
    }
   ],
   "source": [
    "#Importation de la fonction depuis la librairie de SKLearn\n",
    "from sklearn.tree import DecisionTreeClassifier\n",
    "\n",
    "def ClfDT():\n",
    "    text_clf = Pipeline([\n",
    "        ('tovect', CountVectorizer()),\n",
    "        ('tfidf', TfidfTransformer()),\n",
    "        ('clf', DecisionTreeClassifier(criterion=\"gini\",\n",
    "                                       splitter=\"best\",\n",
    "                                       max_depth=None,\n",
    "                                       min_samples_split=2,\n",
    "                                       min_samples_leaf=1,\n",
    "                                       min_weight_fraction_leaf=0.0,\n",
    "                                       max_features=None,\n",
    "                                       random_state=None,\n",
    "                                       max_leaf_nodes=None,\n",
    "                                       min_impurity_decrease=0.0,\n",
    "                                       min_impurity_split=None,\n",
    "                                       class_weight=None,\n",
    "                                       presort=False))])\n",
    "\n",
    "    text_clf.fit(twenty_train.data, twenty_train.target)  \n",
    "    predicted = text_clf.predict(docs_test)\n",
    "    return(np.mean(predicted == twenty_test.target))\n",
    "\n",
    "ClfDT()"
   ]
  },
  {
   "cell_type": "markdown",
   "metadata": {},
   "source": [
    "### 5.5. Forêt Aléatoire\n",
    "###### Documentation sur les Forêts Aléatoires : \n",
    "\n",
    "Documentation sur la partie Théorique des Forêts Aléatoires :\n",
    "\n",
    "https://scikit-learn.org/stable/modules/ensemble.html#forests-of-randomized-trees\n",
    "\n",
    "Documentation sur la fonction RandomForestClassifier() :\n",
    "\n",
    "https://scikit-learn.org/stable/modules/generated/sklearn.ensemble.RandomForestClassifier.html"
   ]
  },
  {
   "cell_type": "markdown",
   "metadata": {},
   "source": [
    "### Concernant les forets aléatoires :\n",
    "il contient 13 hyperparamètres :\n",
    "\n",
    "\n",
    "\n",
    "#### n_estimators : integer, optional (default=10)\n",
    "\n",
    "    The number of trees in the forest.\n",
    "\n",
    "    Changed in version 0.20: The default value of n_estimators will change from 10 in version 0.20 to 100 in version 0.22.\n",
    "#### criterion : string, optional (default=”gini”)\n",
    "\n",
    "    The function to measure the quality of a split. Supported criteria are “gini” for the Gini impurity and “entropy” for the information gain. Note: this parameter is tree-specific.\n",
    "#### max_depth : integer or None, optional (default=None)\n",
    "\n",
    "    The maximum depth of the tree. If None, then nodes are expanded until all leaves are pure or until all leaves contain less than min_samples_split samples.\n",
    "#### min_samples_split : int, float, optional (default=2)\n",
    "\n",
    "    The minimum number of samples required to split an internal node:\n",
    "\n",
    "        If int, then consider min_samples_split as the minimum number.\n",
    "        If float, then min_samples_split is a fraction and ceil(min_samples_split * n_samples) are the minimum number of samples for each split.\n",
    "\n",
    "    Changed in version 0.18: Added float values for fractions.\n",
    "#### min_samples_leaf : int, float, optional (default=1)\n",
    "\n",
    "    The minimum number of samples required to be at a leaf node. A split point at any depth will only be considered if it leaves at least min_samples_leaf training samples in each of the left and right branches. This may have the effect of smoothing the model, especially in regression.\n",
    "\n",
    "        If int, then consider min_samples_leaf as the minimum number.\n",
    "        If float, then min_samples_leaf is a fraction and ceil(min_samples_leaf * n_samples) are the minimum number of samples for each node.\n",
    "\n",
    "    Changed in version 0.18: Added float values for fractions.\n",
    "#### min_weight_fraction_leaf : float, optional (default=0.)\n",
    "\n",
    "    The minimum weighted fraction of the sum total of weights (of all the input samples) required to be at a leaf node. Samples have equal weight when sample_weight is not provided.\n",
    "#### max_features : int, float, string or None, optional (default=”auto”)\n",
    "\n",
    "    The number of features to consider when looking for the best split:\n",
    "\n",
    "        If int, then consider max_features features at each split.\n",
    "        If float, then max_features is a fraction and int(max_features * n_features) features are considered at each split.\n",
    "        If “auto”, then max_features=sqrt(n_features).\n",
    "        If “sqrt”, then max_features=sqrt(n_features) (same as “auto”).\n",
    "        If “log2”, then max_features=log2(n_features).\n",
    "        If None, then max_features=n_features.\n",
    "\n",
    "    Note: the search for a split does not stop until at least one valid partition of the node samples is found, even if it requires to effectively inspect more than max_features features.\n",
    "#### max_leaf_nodes : int or None, optional (default=None)\n",
    "\n",
    "    Grow trees with max_leaf_nodes in best-first fashion. Best nodes are defined as relative reduction in impurity. If None then unlimited number of leaf nodes.\n",
    "#### min_impurity_decrease : float, optional (default=0.)\n",
    "\n",
    "    A node will be split if this split induces a decrease of the impurity greater than or equal to this value.\n",
    "\n",
    "    The weighted impurity decrease equation is the following:\n",
    "\n",
    "    N_t / N * (impurity - N_t_R / N_t * right_impurity\n",
    "                        - N_t_L / N_t * left_impurity)\n",
    "\n",
    "    where N is the total number of samples, N_t is the number of samples at the current node, N_t_L is the number of samples in the left child, and N_t_R is the number of samples in the right child.\n",
    "\n",
    "    N, N_t, N_t_R and N_t_L all refer to the weighted sum, if sample_weight is passed.\n",
    "\n",
    "    New in version 0.19.\n",
    "#### min_impurity_split : float, (default=1e-7)\n",
    "\n",
    "    Threshold for early stopping in tree growth. A node will split if its impurity is above the threshold, otherwise it is a leaf.\n",
    "\n",
    "    Deprecated since version 0.19: min_impurity_split has been deprecated in favor of min_impurity_decrease in 0.19. The default value of min_impurity_split will change from 1e-7 to 0 in 0.23 and it will be removed in 0.25. Use min_impurity_decrease instead.\n",
    "#### bootstrap : boolean, optional (default=True)\n",
    "\n",
    "    Whether bootstrap samples are used when building trees. If False, the whole datset is used to build each tree.\n",
    "#### oob_score : bool (default=False)\n",
    "\n",
    "    Whether to use out-of-bag samples to estimate the generalization accuracy.\n",
    "#### n_jobs : int or None, optional (default=None)\n",
    "\n",
    "    Optimisation ! (not needed)\n",
    "    The number of jobs to run in parallel for both fit and predict. None means 1 unless in a joblib.parallel_backend context. -1 means using all processors. See Glossary for more details.\n",
    "#### random_state : int, RandomState instance or None, optional (default=None)\n",
    "\n",
    "    If int, random_state is the seed used by the random number generator; If RandomState instance, random_state is the random number generator; If None, the random number generator is the RandomState instance used by np.random.\n",
    "#### verbose : int, optional (default=0)\n",
    "\n",
    "    Controls the verbosity when fitting and predicting.\n",
    "#### warm_start : bool, optional (default=False)\n",
    "\n",
    "    When set to True, reuse the solution of the previous call to fit and add more estimators to the ensemble, otherwise, just fit a whole new forest. See the Glossary.\n",
    "#### class_weight : dict, list of dicts, “balanced”, “balanced_subsample” or None, optional (default=None)\n",
    "\n",
    "    Weights associated with classes in the form {class_label: weight}. If not given, all classes are supposed to have weight one. For multi-output problems, a list of dicts can be provided in the same order as the columns of y.\n",
    "\n",
    "    Note that for multioutput (including multilabel) weights should be defined for each class of every column in its own dict. For example, for four-class multilabel classification weights should be [{0: 1, 1: 1}, {0: 1, 1: 5}, {0: 1, 1: 1}, {0: 1, 1: 1}] instead of [{1:1}, {2:5}, {3:1}, {4:1}].\n",
    "\n",
    "    The “balanced” mode uses the values of y to automatically adjust weights inversely proportional to class frequencies in the input data as n_samples / (n_classes * np.bincount(y))\n",
    "\n",
    "    The “balanced_subsample” mode is the same as “balanced” except that weights are computed based on the bootstrap sample for every tree grown.\n",
    "\n",
    "    For multi-output, the weights of each column of y will be multiplied.\n",
    "\n",
    "    Note that these weights will be multiplied with sample_weight (passed through the fit method) if sample_weight is specified.\n",
    "\n",
    "    \n",
    "### Maintenant que nous avons passé en revue tous les hyperparamètres et après quelques essaies,\n",
    "nous remarquons que "
   ]
  },
  {
   "cell_type": "code",
   "execution_count": 95,
   "metadata": {},
   "outputs": [
    {
     "data": {
      "image/png": "[encoded data removed]",
      "text/plain": [
       "<Figure size 432x288 with 1 Axes>"
      ]
     },
     "metadata": {},
     "output_type": "display_data"
    }
   ],
   "source": [
    "#Importation de la fonction depuis la librairie de SKLearn\n",
    "from sklearn.ensemble import RandomForestClassifier\n",
    "\n",
    "# Nous allons ici observer l'évolution du taux de réussite en fonction du nombre d'arbres contenue dans la forêt\n",
    "\n",
    "# ATTENTION !! TEMPS DE CALCUL TRES LONG ! ~15min\n",
    "def ClfRF(x):\n",
    "    text_clf = Pipeline([\n",
    "        ('tovect', CountVectorizer()),\n",
    "        ('tfidf', TfidfTransformer()),\n",
    "        ('clf', RandomForestClassifier(n_estimators=x,\n",
    "                                       criterion=\"gini\",\n",
    "                                       max_depth=None,\n",
    "                                       min_samples_split=2,\n",
    "                                       min_samples_leaf=1,\n",
    "                                       min_weight_fraction_leaf=0.0,\n",
    "                                       max_features=\"auto\",\n",
    "                                       max_leaf_nodes=None,\n",
    "                                       min_impurity_decrease=0.0,\n",
    "                                       min_impurity_split=None,\n",
    "                                       bootstrap=True,\n",
    "                                       oob_score=False,\n",
    "#                                       n_jobs=None,  ce paramètre génère une erreur, rechercher la raison...\n",
    "                                       random_state=None,\n",
    "                                       verbose=0,\n",
    "                                       warm_start=False,\n",
    "                                       class_weight=None))])\n",
    "\n",
    "    text_clf.fit(twenty_train.data, twenty_train.target)\n",
    "    predicted = text_clf.predict(docs_test)\n",
    "    return(np.mean(predicted == twenty_test.target))\n",
    "\n",
    "\n",
    "x=np.arange(2, 100, 1)\n",
    "y=[ClfRF(r) for r in x]\n",
    "\n",
    "plt.plot(x, y)\n",
    "plt.title(\"RandomForest : Optimisation du nombre d'arbre\")\n",
    "plt.xlabel(\"nb d'arbres\")\n",
    "plt.ylabel(\"Taux moyen de réussite\")\n",
    "plt.show()"
   ]
  },
  {
   "cell_type": "code",
   "execution_count": null,
   "metadata": {},
   "outputs": [],
   "source": [
    "#Le but ici est de "
   ]
  },
  {
   "cell_type": "markdown",
   "metadata": {},
   "source": [
    "### 5.6. Régréssion Logistique\n",
    "###### Documentation sur la Regression Logistique : \n",
    "\n",
    "Documentation sur la partie Théorique de la Regression Logistique :\n",
    "\n",
    "https://scikit-learn.org/stable/modules/linear_model.html#logistic-regression\n",
    "\n",
    "Documentation sur la fonction LogisticRegression() :\n",
    "\n",
    "https://scikit-learn.org/stable/modules/generated/sklearn.linear_model.LogisticRegression.html"
   ]
  },
  {
   "cell_type": "code",
   "execution_count": 66,
   "metadata": {},
   "outputs": [
    {
     "data": {
      "text/plain": [
       "0.8867724867724868"
      ]
     },
     "execution_count": 66,
     "metadata": {},
     "output_type": "execute_result"
    }
   ],
   "source": [
    "#Importation de la fonction depuis la librairie de SKLearn\n",
    "from sklearn.linear_model import LogisticRegression\n",
    "\n",
    "def ClfRegLog():\n",
    "    text_clf = Pipeline([\n",
    "        ('tovect', CountVectorizer()),\n",
    "        ('tfidf', TfidfTransformer()),\n",
    "        ('clf', LogisticRegression())])\n",
    "\n",
    "    text_clf.fit(twenty_train.data, twenty_train.target)  \n",
    "    predicted = text_clf.predict(docs_test)\n",
    "    return(np.mean(predicted == twenty_test.target))\n",
    "\n",
    "ClfRegLog()"
   ]
  },
  {
   "cell_type": "markdown",
   "metadata": {},
   "source": [
    "### 5.7. Machine à Vecteur de Support (SVM)\n",
    "###### Documentation sur les Support Vecteur Machine (SVM), et notamment sur les SVC : \n",
    "\n",
    "Documentation sur la partie Théorique des Support Vecteur Machine :\n",
    "\n",
    "https://scikit-learn.org/stable/modules/svm.html\n",
    "\n",
    "Documentation sur la fonction SVC() :\n",
    "\n",
    "https://scikit-learn.org/stable/modules/generated/sklearn.svm.SVC.html"
   ]
  },
  {
   "cell_type": "code",
   "execution_count": 67,
   "metadata": {},
   "outputs": [
    {
     "data": {
      "text/plain": [
       "0.9079365079365079"
      ]
     },
     "execution_count": 67,
     "metadata": {},
     "output_type": "execute_result"
    }
   ],
   "source": [
    "#Importation de la fonction depuis la librairie de SKLearn\n",
    "from sklearn.svm import SVC\n",
    "\n",
    "def ClfSVC() :\n",
    "    text_clf = Pipeline([\n",
    "        ('tovect', CountVectorizer()),\n",
    "        ('tfidf', TfidfTransformer()),\n",
    "        ('clf', SVC(kernel = 'linear'))])\n",
    "\n",
    "    text_clf.fit(twenty_train.data, twenty_train.target)  \n",
    "\n",
    "    predicted = text_clf.predict(docs_test)\n",
    "    return(np.mean(predicted == twenty_test.target))\n",
    "\n",
    "ClfSVC()"
   ]
  },
  {
   "cell_type": "markdown",
   "metadata": {},
   "source": [
    "# Boosting\n",
    "Nous allons ici mettre en place un vote à la majorité simple."
   ]
  },
  {
   "cell_type": "code",
   "execution_count": 68,
   "metadata": {},
   "outputs": [
    {
     "name": "stderr",
     "output_type": "stream",
     "text": [
      "C:\\Users\\et8ge\\Anaconda3\\lib\\site-packages\\sklearn\\preprocessing\\label.py:151: DeprecationWarning: The truth value of an empty array is ambiguous. Returning False, but in future this will result in an error. Use `array.size > 0` to check that an array is not empty.\n",
      "  if diff:\n"
     ]
    },
    {
     "data": {
      "text/plain": [
       "0.9137566137566138"
      ]
     },
     "execution_count": 68,
     "metadata": {},
     "output_type": "execute_result"
    }
   ],
   "source": [
    "from sklearn.ensemble import VotingClassifier\n",
    "\n",
    "#Composition du méta-classifieur\n",
    "metaClf = VotingClassifier(estimators=[('CLf1',MultinomialNB(alpha=0.035)),\n",
    "                                       ('Clf2',SGDClassifier(loss='hinge', penalty='l2', alpha=1e-3, random_state=42, max_iter=100, tol=None)),\n",
    "                                       ('Clf3',KNeighborsClassifier(n_neighbors = 1, weights = 'uniform')),\n",
    "                                       ('Clf4',DecisionTreeClassifier()),\n",
    "                                       ('Clf5',RandomForestClassifier()),\n",
    "                                       ('Clf6',LogisticRegression()),\n",
    "                                       ('Clf7',SVC(kernel = 'linear'))],\n",
    "                            voting=\"hard\")\n",
    "\n",
    "#Pipeline du méta-classifieur\n",
    "def ClfMeta() :\n",
    "    text_clf = Pipeline([\n",
    "        ('tovect', CountVectorizer()),\n",
    "        ('tfidf', TfidfTransformer()),\n",
    "        ('clf', metaClf)])\n",
    "\n",
    "    text_clf.fit(twenty_train.data, twenty_train.target)  \n",
    "\n",
    "    predicted = text_clf.predict(docs_test)\n",
    "    return(np.mean(predicted == twenty_test.target))\n",
    "\n",
    "\n",
    "ClfMeta()"
   ]
  },
  {
   "cell_type": "markdown",
   "metadata": {},
   "source": [
    "# Evaluation du modèle complet (boosting) via matrice de confusion\n",
    "Nous allons maintenant ré-évaluer notre modèle grâce à une matrice de confusion et quelques indicateurs(...)"
   ]
  },
  {
   "cell_type": "code",
   "execution_count": 69,
   "metadata": {},
   "outputs": [
    {
     "name": "stdout",
     "output_type": "stream",
     "text": [
      "                          precision    recall  f1-score   support\n",
      "\n",
      "             alt.atheism       0.98      0.59      0.74       319\n",
      "comp.sys.ibm.pc.hardware       0.88      0.91      0.90       392\n",
      "   comp.sys.mac.hardware       0.92      0.86      0.89       385\n",
      "                 sci.med       0.96      0.81      0.88       396\n",
      "  soc.religion.christian       0.66      0.99      0.79       398\n",
      "\n",
      "             avg / total       0.87      0.84      0.84      1890\n",
      "\n"
     ]
    }
   ],
   "source": [
    "from sklearn import metrics\n",
    "\n",
    "print(metrics.classification_report(twenty_test.target, predicted, target_names=twenty_train.target_names))"
   ]
  },
  {
   "cell_type": "code",
   "execution_count": 70,
   "metadata": {},
   "outputs": [
    {
     "name": "stdout",
     "output_type": "stream",
     "text": [
      "[[189   2   0   7 121]\n",
      " [  0 357  26   1   8]\n",
      " [  0  34 330   4  17]\n",
      " [  2  10   3 322  59]\n",
      " [  2   1   0   2 393]]\n"
     ]
    }
   ],
   "source": [
    "#Matrice de confusion brute.\n",
    "print(metrics.confusion_matrix(twenty_test.target, predicted))"
   ]
  },
  {
   "cell_type": "code",
   "execution_count": 71,
   "metadata": {},
   "outputs": [
    {
     "data": {
      "image/png": "[encoded data removed]",
      "text/plain": [
       "<Figure size 432x288 with 2 Axes>"
      ]
     },
     "metadata": {},
     "output_type": "display_data"
    }
   ],
   "source": [
    "# importons une matrice de confusion un peu plus graphique et claire avec seaborn\n",
    "import seaborn as sns\n",
    "\n",
    "data=metrics.confusion_matrix(twenty_test.target, predicted)\n",
    "ax = sns.heatmap(data, annot=True, fmt=\"d\", linewidths=.5, vmin=0, vmax=150, center=300)"
   ]
  },
  {
   "cell_type": "markdown",
   "metadata": {},
   "source": []
  },
  {
   "cell_type": "code",
   "execution_count": null,
   "metadata": {},
   "outputs": [],
   "source": []
  },
  {
   "cell_type": "code",
   "execution_count": null,
   "metadata": {},
   "outputs": [],
   "source": []
  },
  {
   "cell_type": "code",
   "execution_count": null,
   "metadata": {},
   "outputs": [],
   "source": []
  },
  {
   "cell_type": "code",
   "execution_count": null,
   "metadata": {},
   "outputs": [],
   "source": []
  },
  {
   "cell_type": "code",
   "execution_count": null,
   "metadata": {},
   "outputs": [],
   "source": []
  },
  {
   "cell_type": "code",
   "execution_count": null,
   "metadata": {},
   "outputs": [],
   "source": []
  },
  {
   "cell_type": "code",
   "execution_count": null,
   "metadata": {},
   "outputs": [],
   "source": []
  },
  {
   "cell_type": "code",
   "execution_count": null,
   "metadata": {},
   "outputs": [],
   "source": []
  },
  {
   "cell_type": "code",
   "execution_count": null,
   "metadata": {},
   "outputs": [],
   "source": []
  },
  {
   "cell_type": "code",
   "execution_count": null,
   "metadata": {},
   "outputs": [],
   "source": []
  }
 ],
 "metadata": {
  "celltoolbar": "Slideshow",
  "kernelspec": {
   "display_name": "Python 3",
   "language": "python",
   "name": "python3"
  },
  "language_info": {
   "codemirror_mode": {
    "name": "ipython",
    "version": 3
   },
   "file_extension": ".py",
   "mimetype": "text/x-python",
   "name": "python",
   "nbconvert_exporter": "python",
   "pygments_lexer": "ipython3",
   "version": "3.7.0"
  }
 },
 "nbformat": 4,
 "nbformat_minor": 2
}
