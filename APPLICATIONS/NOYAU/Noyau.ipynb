{
 "cells": [
  {
   "cell_type": "code",
   "execution_count": 318,
   "metadata": {},
   "outputs": [],
   "source": [
    "import nltk \n",
    "#importation de la bibliothèque NLTK\n",
    "from nltk.tokenize import word_tokenize\n",
    "#importation de nltk\n",
    "from nltk.corpus import stopwords\n",
    "#importation des mots d'arrêt\n",
    "from nltk.stem import PorterStemmer\n",
    "#Imporation de la fonction stemming\n",
    "from nltk.stem import WordNetLemmatizer\n",
    "#Imporation de la fonction Lemmantization\n",
    "from  nltk.probability import FreqDist\n",
    "#Imporation de la fonction occurence\n",
    "import pandas as pd\n",
    "import math"
   ]
  },
  {
   "cell_type": "code",
   "execution_count": 319,
   "metadata": {},
   "outputs": [],
   "source": [
    "TEXTE1 = \"Maths is his her their life ! Hail maths, though Mr.Leroux only pretends to like them. \"\n",
    "TEXTE2 = \"Mr.Leroux liked maths , but then the incident happened. \"\n",
    "TEXTE3= \"Who's better at mathematics ? Mr.Leroux or Mr.Vidal ? \""
   ]
  },
  {
   "cell_type": "code",
   "execution_count": 320,
   "metadata": {},
   "outputs": [
    {
     "name": "stdout",
     "output_type": "stream",
     "text": [
      "['Maths', 'is', 'his', 'her', 'their', 'life', '!', 'Hail', 'maths', ',', 'though', 'Mr.Leroux', 'only', 'pretends', 'to', 'like', 'them', '.']\n",
      "['Mr.Leroux', 'liked', 'maths', ',', 'but', 'then', 'the', 'incident', 'happened', '.']\n",
      "['Who', \"'s\", 'better', 'at', 'mathematics', '?', 'Mr.Leroux', 'or', 'Mr.Vidal', '?']\n"
     ]
    }
   ],
   "source": [
    "print(word_tokenize(TEXTE1))\n",
    "print(word_tokenize(TEXTE2))\n",
    "print(word_tokenize(TEXTE3))"
   ]
  },
  {
   "cell_type": "code",
   "execution_count": 321,
   "metadata": {},
   "outputs": [
    {
     "name": "stdout",
     "output_type": "stream",
     "text": [
      "{'this', 'and', 'if', \"haven't\", 'his', 'further', 'because', 'where', 'my', 'all', \"doesn't\", 'your', \"you're\", 'as', 'me', 'yours', 'ain', 'there', 'herself', 'nor', 'were', 'be', 'between', 'have', 'couldn', 'mustn', '?', \"aren't\", 'we', 're', 'yourselves', 'about', 'him', 'wouldn', 'ourselves', 'needn', 'was', 'few', 'an', 'these', 't', 'before', 'up', 'very', 'll', '!', \"you'll\", 'you', 'which', 'the', 'should', 'ma', 'more', 'no', 'below', \"needn't\", 'weren', 'during', 'doing', 'haven', 'am', 'when', 'o', 'has', \"that'll\", 'again', 'they', 's', 'does', \"mightn't\", 'their', 'our', \"you've\", 'while', 'down', \"didn't\", 'once', 'shouldn', 'are', 'won', 'myself', \"shouldn't\", 'ours', 'out', 'after', 'only', 'it', 'how', 'too', 'wasn', 'i', 'what', \"you'd\", 'by', \"don't\", 've', 'any', 'y', 'against', 'own', 'such', 'or', 'who', 'but', \"'s\", 'just', 'whom', 'over', 'most', 'did', \"should've\", 'its', 'a', 'for', 'of', ',', 'at', '.', \"wouldn't\", 'doesn', 'had', 'aren', 'same', 'hadn', \"won't\", 'on', 'them', 'why', 'now', 'is', 'will', \"couldn't\", 'both', 'mightn', 'in', \"mustn't\", 'her', \"weren't\", 'those', 'itself', \"it's\", 'under', 'being', 'off', 'themselves', 'some', \"wasn't\", 'theirs', 'having', 'not', 'himself', 'then', 'here', 'can', 'until', 'd', 'didn', 'yourself', 'he', 'been', \"hadn't\", 'that', \"shan't\", 'into', 'do', 'hers', 'so', \"isn't\", 'through', \"hasn't\", 'above', 'm', 'isn', 'shan', \"she's\", 'hasn', 'from', 'she', 'with', 'each', 'than', 'don', 'to', 'other'}\n"
     ]
    }
   ],
   "source": [
    "stop_words= set(stopwords.words(\"english\"))\n",
    "#création de la liste des stop words\n",
    "stop_words.update(stop_words,{'.',',','!','?','\\'s'})\n",
    "print(stop_words)\n",
    "#visualitation des mots d'arrêts"
   ]
  },
  {
   "cell_type": "code",
   "execution_count": 322,
   "metadata": {},
   "outputs": [],
   "source": [
    "#Procédure STOP_WORDS\n",
    "\n",
    "#TEXTE  1\n",
    "words=word_tokenize(TEXTE1) #création de la liste de mot du texte TEXTE_TWO\n",
    "TEXTE1_FILTRE =[] #création de la liste filtrée (vide)\n",
    "for w in words:\n",
    "    if w.lower() not in stop_words:\n",
    "        TEXTE1_FILTRE.append(w)\n",
    "\n",
    "#TEXTE 2\n",
    "words=word_tokenize(TEXTE2) \n",
    "TEXTE2_FILTRE =[]\n",
    "for w in words:\n",
    "    if w.lower() not in stop_words:\n",
    "        TEXTE2_FILTRE.append(w)\n",
    "        \n",
    "#TEXTE 3 \n",
    "words=word_tokenize(TEXTE3)\n",
    "TEXTE3_FILTRE =[] \n",
    "for w in words:\n",
    "    if w.lower() not in stop_words:\n",
    "        TEXTE3_FILTRE.append(w)\n",
    "\n",
    "        "
   ]
  },
  {
   "cell_type": "code",
   "execution_count": 323,
   "metadata": {},
   "outputs": [
    {
     "name": "stdout",
     "output_type": "stream",
     "text": [
      "['Maths', 'life', 'Hail', 'maths', 'though', 'Mr.Leroux', 'pretends', 'like']\n",
      "['Mr.Leroux', 'liked', 'maths', 'incident', 'happened']\n",
      "['better', 'mathematics', 'Mr.Leroux', 'Mr.Vidal']\n"
     ]
    }
   ],
   "source": [
    "print(TEXTE1_FILTRE)\n",
    "print(TEXTE2_FILTRE)\n",
    "print(TEXTE3_FILTRE)"
   ]
  },
  {
   "cell_type": "code",
   "execution_count": 324,
   "metadata": {},
   "outputs": [
    {
     "data": {
      "text/plain": [
       "FreqDist({'maths': 2, 'life': 1, 'hail': 1, 'though': 1, 'mr.leroux': 1, 'pretends': 1, 'like': 1})"
      ]
     },
     "execution_count": 324,
     "metadata": {},
     "output_type": "execute_result"
    }
   ],
   "source": [
    "# Occurence des termes texte1\n",
    "fdist1=FreqDist()\n",
    "for word in TEXTE1_FILTRE:\n",
    "    fdist1[word.lower()]+=1\n",
    "fdist1"
   ]
  },
  {
   "cell_type": "code",
   "execution_count": 325,
   "metadata": {},
   "outputs": [
    {
     "data": {
      "text/plain": [
       "FreqDist({'mr.leroux': 1, 'liked': 1, 'maths': 1, 'incident': 1, 'happened': 1})"
      ]
     },
     "execution_count": 325,
     "metadata": {},
     "output_type": "execute_result"
    }
   ],
   "source": [
    "#Occurence des termes texte2\n",
    "fdist2=FreqDist()\n",
    "for word in TEXTE2_FILTRE:\n",
    "    fdist2[word.lower()]+=1\n",
    "fdist2"
   ]
  },
  {
   "cell_type": "code",
   "execution_count": 326,
   "metadata": {},
   "outputs": [
    {
     "data": {
      "text/plain": [
       "FreqDist({'better': 1, 'mathematics': 1, 'mr.leroux': 1, 'mr.vidal': 1})"
      ]
     },
     "execution_count": 326,
     "metadata": {},
     "output_type": "execute_result"
    }
   ],
   "source": [
    "#Occurence des termes texte2\n",
    "fdist3=FreqDist()\n",
    "for word in TEXTE3_FILTRE:\n",
    "    fdist3[word.lower()]+=1\n",
    "fdist3"
   ]
  },
  {
   "cell_type": "code",
   "execution_count": 327,
   "metadata": {},
   "outputs": [
    {
     "data": {
      "text/plain": [
       "['better', 'mathematics', 'Mr.Leroux', 'Mr.Vidal']"
      ]
     },
     "execution_count": 327,
     "metadata": {},
     "output_type": "execute_result"
    }
   ],
   "source": [
    "#TEST STEMMING VALIDE\n",
    "TEXTE3_FILTRE"
   ]
  },
  {
   "cell_type": "code",
   "execution_count": 328,
   "metadata": {},
   "outputs": [],
   "source": [
    "#PROCEDURE STEMMING\n",
    "ps = PorterStemmer()\n",
    "TEXTE1_FILTRE2 = [ps.stem(word) for word in TEXTE1_FILTRE]\n",
    "TEXTE2_FILTRE2 = [ps.stem(word) for word in TEXTE2_FILTRE]\n",
    "TEXTE3_FILTRE2 = [ps.stem(word) for word in TEXTE3_FILTRE]"
   ]
  },
  {
   "cell_type": "code",
   "execution_count": 329,
   "metadata": {},
   "outputs": [],
   "source": [
    "#MISE A JOUR DE LA LISTE\n",
    "TEXTE1_FILTRE=TEXTE1_FILTRE2\n",
    "TEXTE2_FILTRE=TEXTE2_FILTRE2\n",
    "TEXTE3_FILTRE=TEXTE3_FILTRE2"
   ]
  },
  {
   "cell_type": "code",
   "execution_count": 330,
   "metadata": {},
   "outputs": [
    {
     "data": {
      "text/plain": [
       "['better', 'mathemat', 'mr.leroux', 'mr.vidal']"
      ]
     },
     "execution_count": 330,
     "metadata": {},
     "output_type": "execute_result"
    }
   ],
   "source": [
    "#TEST STEMMING\n",
    "TEXTE3_FILTRE"
   ]
  },
  {
   "cell_type": "code",
   "execution_count": 331,
   "metadata": {},
   "outputs": [],
   "source": [
    "#PROCEDURE lEMMATIZING\n",
    "lmtzr=WordNetLemmatizer()\n",
    "TEXTE1_FILTRE2 = [lmtzr.lemmatize(word) for word in TEXTE1_FILTRE]\n",
    "TEXTE2_FILTRE2 = [lmtzr.lemmatize(word) for word in TEXTE2_FILTRE]\n",
    "TEXTE3_FILTRE2 = [lmtzr.lemmatize(word) for word in TEXTE3_FILTRE]"
   ]
  },
  {
   "cell_type": "code",
   "execution_count": 332,
   "metadata": {},
   "outputs": [],
   "source": [
    "#MISE A JOUR DE LA LISTE\n",
    "TEXTE1_FILTRE=TEXTE1_FILTRE2\n",
    "TEXTE2_FILTRE=TEXTE2_FILTRE2\n",
    "TEXTE3_FILTRE=TEXTE3_FILTRE2"
   ]
  },
  {
   "cell_type": "code",
   "execution_count": 333,
   "metadata": {},
   "outputs": [
    {
     "data": {
      "text/plain": [
       "['math', 'life', 'hail', 'math', 'though', 'mr.leroux', 'pretend', 'like']"
      ]
     },
     "execution_count": 333,
     "metadata": {},
     "output_type": "execute_result"
    }
   ],
   "source": [
    "#TEST LEMMATIZING\n",
    "TEXTE1_FILTRE"
   ]
  },
  {
   "cell_type": "code",
   "execution_count": 334,
   "metadata": {},
   "outputs": [],
   "source": [
    "wordset=set(TEXTE1_FILTRE).union(set(TEXTE2_FILTRE)).union(set(TEXTE3_FILTRE)) #notre panier de bag-of-words"
   ]
  },
  {
   "cell_type": "code",
   "execution_count": 335,
   "metadata": {},
   "outputs": [],
   "source": [
    "TEXTE_ONE=dict.fromkeys(wordset,0)\n",
    "TEXTE_TWO=dict.fromkeys(wordset,0)\n",
    "TEXTE_THREE=dict.fromkeys(wordset,0)"
   ]
  },
  {
   "cell_type": "code",
   "execution_count": 336,
   "metadata": {},
   "outputs": [
    {
     "data": {
      "text/plain": [
       "{'mr.leroux': 0,\n",
       " 'mr.vidal': 0,\n",
       " 'incid': 0,\n",
       " 'though': 0,\n",
       " 'hail': 0,\n",
       " 'life': 0,\n",
       " 'mathemat': 0,\n",
       " 'pretend': 0,\n",
       " 'like': 0,\n",
       " 'happen': 0,\n",
       " 'better': 0,\n",
       " 'math': 0}"
      ]
     },
     "execution_count": 336,
     "metadata": {},
     "output_type": "execute_result"
    }
   ],
   "source": [
    "TEXTE_ONE #il s'agit de la première ligne du tableau, sans la fonction occurence"
   ]
  },
  {
   "cell_type": "code",
   "execution_count": 337,
   "metadata": {},
   "outputs": [],
   "source": [
    "for word in TEXTE1_FILTRE:\n",
    "    TEXTE_ONE[word]+=1\n",
    "    \n",
    "for word in TEXTE2_FILTRE:\n",
    "    TEXTE_TWO[word]+=1\n",
    "    \n",
    "for word in TEXTE3_FILTRE:\n",
    "    TEXTE_THREE[word]+=1 \n",
    "#On ajoute à la liste TEXTE_ONE LES MOTS présents à texte1_FILTRE"
   ]
  },
  {
   "cell_type": "code",
   "execution_count": 338,
   "metadata": {},
   "outputs": [
    {
     "data": {
      "text/html": [
       "<div>\n",
       "<style scoped>\n",
       "    .dataframe tbody tr th:only-of-type {\n",
       "        vertical-align: middle;\n",
       "    }\n",
       "\n",
       "    .dataframe tbody tr th {\n",
       "        vertical-align: top;\n",
       "    }\n",
       "\n",
       "    .dataframe thead th {\n",
       "        text-align: right;\n",
       "    }\n",
       "</style>\n",
       "<table border=\"1\" class=\"dataframe\">\n",
       "  <thead>\n",
       "    <tr style=\"text-align: right;\">\n",
       "      <th></th>\n",
       "      <th>better</th>\n",
       "      <th>hail</th>\n",
       "      <th>happen</th>\n",
       "      <th>incid</th>\n",
       "      <th>life</th>\n",
       "      <th>like</th>\n",
       "      <th>math</th>\n",
       "      <th>mathemat</th>\n",
       "      <th>mr.leroux</th>\n",
       "      <th>mr.vidal</th>\n",
       "      <th>pretend</th>\n",
       "      <th>though</th>\n",
       "    </tr>\n",
       "  </thead>\n",
       "  <tbody>\n",
       "    <tr>\n",
       "      <th>0</th>\n",
       "      <td>0</td>\n",
       "      <td>1</td>\n",
       "      <td>0</td>\n",
       "      <td>0</td>\n",
       "      <td>1</td>\n",
       "      <td>1</td>\n",
       "      <td>2</td>\n",
       "      <td>0</td>\n",
       "      <td>1</td>\n",
       "      <td>0</td>\n",
       "      <td>1</td>\n",
       "      <td>1</td>\n",
       "    </tr>\n",
       "    <tr>\n",
       "      <th>1</th>\n",
       "      <td>0</td>\n",
       "      <td>0</td>\n",
       "      <td>1</td>\n",
       "      <td>1</td>\n",
       "      <td>0</td>\n",
       "      <td>1</td>\n",
       "      <td>1</td>\n",
       "      <td>0</td>\n",
       "      <td>1</td>\n",
       "      <td>0</td>\n",
       "      <td>0</td>\n",
       "      <td>0</td>\n",
       "    </tr>\n",
       "    <tr>\n",
       "      <th>2</th>\n",
       "      <td>1</td>\n",
       "      <td>0</td>\n",
       "      <td>0</td>\n",
       "      <td>0</td>\n",
       "      <td>0</td>\n",
       "      <td>0</td>\n",
       "      <td>0</td>\n",
       "      <td>1</td>\n",
       "      <td>1</td>\n",
       "      <td>1</td>\n",
       "      <td>0</td>\n",
       "      <td>0</td>\n",
       "    </tr>\n",
       "  </tbody>\n",
       "</table>\n",
       "</div>"
      ],
      "text/plain": [
       "   better  hail  happen  incid  life  like  math  mathemat  mr.leroux  \\\n",
       "0       0     1       0      0     1     1     2         0          1   \n",
       "1       0     0       1      1     0     1     1         0          1   \n",
       "2       1     0       0      0     0     0     0         1          1   \n",
       "\n",
       "   mr.vidal  pretend  though  \n",
       "0         0        1       1  \n",
       "1         0        0       0  \n",
       "2         1        0       0  "
      ]
     },
     "execution_count": 338,
     "metadata": {},
     "output_type": "execute_result"
    }
   ],
   "source": [
    "pd.DataFrame([TEXTE_ONE,TEXTE_TWO,TEXTE_THREE])"
   ]
  },
  {
   "cell_type": "code",
   "execution_count": 339,
   "metadata": {},
   "outputs": [],
   "source": [
    "#Definition fonction TF\n",
    "def computeTF(wordDict,TEXTE):\n",
    "    tfDict={}\n",
    "    bowcount= len(TEXTE)\n",
    "    for word,count in wordDict.items():\n",
    "        tfDict[word]=count/float(bowcount)\n",
    "    return tfDict"
   ]
  },
  {
   "cell_type": "code",
   "execution_count": 340,
   "metadata": {},
   "outputs": [],
   "source": [
    "tf_TEXTE_ONE=computeTF(TEXTE_ONE,TEXTE1_FILTRE)\n",
    "tf_TEXTE_TWO=computeTF(TEXTE_TWO,TEXTE2_FILTRE)\n",
    "tf_TEXTE_THREE=computeTF(TEXTE_THREE,TEXTE3_FILTRE)"
   ]
  },
  {
   "cell_type": "code",
   "execution_count": 341,
   "metadata": {},
   "outputs": [
    {
     "data": {
      "text/plain": [
       "{'mr.leroux': 0.125,\n",
       " 'mr.vidal': 0.0,\n",
       " 'incid': 0.0,\n",
       " 'though': 0.125,\n",
       " 'hail': 0.125,\n",
       " 'life': 0.125,\n",
       " 'mathemat': 0.0,\n",
       " 'pretend': 0.125,\n",
       " 'like': 0.125,\n",
       " 'happen': 0.0,\n",
       " 'better': 0.0,\n",
       " 'math': 0.25}"
      ]
     },
     "execution_count": 341,
     "metadata": {},
     "output_type": "execute_result"
    }
   ],
   "source": [
    "#Affichage TF_TEXTE_ONE\n",
    "tf_TEXTE_ONE\n",
    "#TEXTE1 = \"Maths is his her their life ! Hail maths, though M.Leroux only pretends to like them. \"\n",
    "#TEXTE2 = \"Mr.Leroux liked maths , but then the incident happened. \"\n",
    "#TEXTE3= \"Who's better at mathematics ? Mr.Leroux or Mr.Vidal ? \""
   ]
  },
  {
   "cell_type": "code",
   "execution_count": 342,
   "metadata": {},
   "outputs": [],
   "source": [
    "#Definition fonction IDF\n",
    "def computeIDF(TEXTE_LIST):\n",
    "    idfDict={}\n",
    "    N=len(TEXTE_LIST)\n",
    "    \n",
    "    #compte le nombre de documents qui contiennent a mot\n",
    "    idfDict=dict.fromkeys(TEXTE_LIST[0].keys(),0)\n",
    "    for doc in TEXTE_LIST:\n",
    "        for word, val in doc.items():\n",
    "            if val>0:\n",
    "                idfDict[word]+=1\n",
    "    for word, val in idfDict.items():\n",
    "        idfDict[word]=math.log(N/float(val))\n",
    "        \n",
    "    return idfDict"
   ]
  },
  {
   "cell_type": "code",
   "execution_count": 343,
   "metadata": {},
   "outputs": [],
   "source": [
    "idfs=computeIDF([TEXTE_ONE,TEXTE_TWO,TEXTE_THREE])"
   ]
  },
  {
   "cell_type": "code",
   "execution_count": 344,
   "metadata": {},
   "outputs": [
    {
     "data": {
      "text/plain": [
       "{'mr.leroux': 0.0,\n",
       " 'mr.vidal': 1.0986122886681098,\n",
       " 'incid': 1.0986122886681098,\n",
       " 'though': 1.0986122886681098,\n",
       " 'hail': 1.0986122886681098,\n",
       " 'life': 1.0986122886681098,\n",
       " 'mathemat': 1.0986122886681098,\n",
       " 'pretend': 1.0986122886681098,\n",
       " 'like': 0.4054651081081644,\n",
       " 'happen': 1.0986122886681098,\n",
       " 'better': 1.0986122886681098,\n",
       " 'math': 0.4054651081081644}"
      ]
     },
     "execution_count": 344,
     "metadata": {},
     "output_type": "execute_result"
    }
   ],
   "source": [
    "#Affichage idfs\n",
    "idfs"
   ]
  },
  {
   "cell_type": "code",
   "execution_count": 345,
   "metadata": {},
   "outputs": [],
   "source": [
    "#Définiton de la fonction TF-IDF\n",
    "def compute_TF_IDF(TF_TEXTE,IDFs):\n",
    "    tfidf={}\n",
    "    for word, val in TF_TEXTE.items():\n",
    "        tfidf[word]=math.log(val+1)*idfs[word]\n",
    "    return tfidf"
   ]
  },
  {
   "cell_type": "code",
   "execution_count": 346,
   "metadata": {},
   "outputs": [],
   "source": [
    "TF_IDF_TEXTE_1=compute_TF_IDF(tf_TEXTE_ONE,idfs)\n",
    "TF_IDF_TEXTE_2=compute_TF_IDF(tf_TEXTE_TWO,idfs)\n",
    "TF_IDF_TEXTE_3=compute_TF_IDF(tf_TEXTE_THREE,idfs)"
   ]
  },
  {
   "cell_type": "code",
   "execution_count": 347,
   "metadata": {},
   "outputs": [
    {
     "data": {
      "text/html": [
       "<div>\n",
       "<style scoped>\n",
       "    .dataframe tbody tr th:only-of-type {\n",
       "        vertical-align: middle;\n",
       "    }\n",
       "\n",
       "    .dataframe tbody tr th {\n",
       "        vertical-align: top;\n",
       "    }\n",
       "\n",
       "    .dataframe thead th {\n",
       "        text-align: right;\n",
       "    }\n",
       "</style>\n",
       "<table border=\"1\" class=\"dataframe\">\n",
       "  <thead>\n",
       "    <tr style=\"text-align: right;\">\n",
       "      <th></th>\n",
       "      <th>better</th>\n",
       "      <th>hail</th>\n",
       "      <th>happen</th>\n",
       "      <th>incid</th>\n",
       "      <th>life</th>\n",
       "      <th>like</th>\n",
       "      <th>math</th>\n",
       "      <th>mathemat</th>\n",
       "      <th>mr.leroux</th>\n",
       "      <th>mr.vidal</th>\n",
       "      <th>pretend</th>\n",
       "      <th>though</th>\n",
       "    </tr>\n",
       "  </thead>\n",
       "  <tbody>\n",
       "    <tr>\n",
       "      <th>0</th>\n",
       "      <td>0.000000</td>\n",
       "      <td>0.129398</td>\n",
       "      <td>0.000000</td>\n",
       "      <td>0.000000</td>\n",
       "      <td>0.129398</td>\n",
       "      <td>0.047757</td>\n",
       "      <td>0.090477</td>\n",
       "      <td>0.000000</td>\n",
       "      <td>0.0</td>\n",
       "      <td>0.000000</td>\n",
       "      <td>0.129398</td>\n",
       "      <td>0.129398</td>\n",
       "    </tr>\n",
       "    <tr>\n",
       "      <th>1</th>\n",
       "      <td>0.000000</td>\n",
       "      <td>0.000000</td>\n",
       "      <td>0.200301</td>\n",
       "      <td>0.200301</td>\n",
       "      <td>0.000000</td>\n",
       "      <td>0.073925</td>\n",
       "      <td>0.073925</td>\n",
       "      <td>0.000000</td>\n",
       "      <td>0.0</td>\n",
       "      <td>0.000000</td>\n",
       "      <td>0.000000</td>\n",
       "      <td>0.000000</td>\n",
       "    </tr>\n",
       "    <tr>\n",
       "      <th>2</th>\n",
       "      <td>0.245148</td>\n",
       "      <td>0.000000</td>\n",
       "      <td>0.000000</td>\n",
       "      <td>0.000000</td>\n",
       "      <td>0.000000</td>\n",
       "      <td>0.000000</td>\n",
       "      <td>0.000000</td>\n",
       "      <td>0.245148</td>\n",
       "      <td>0.0</td>\n",
       "      <td>0.245148</td>\n",
       "      <td>0.000000</td>\n",
       "      <td>0.000000</td>\n",
       "    </tr>\n",
       "  </tbody>\n",
       "</table>\n",
       "</div>"
      ],
      "text/plain": [
       "     better      hail    happen     incid      life      like      math  \\\n",
       "0  0.000000  0.129398  0.000000  0.000000  0.129398  0.047757  0.090477   \n",
       "1  0.000000  0.000000  0.200301  0.200301  0.000000  0.073925  0.073925   \n",
       "2  0.245148  0.000000  0.000000  0.000000  0.000000  0.000000  0.000000   \n",
       "\n",
       "   mathemat  mr.leroux  mr.vidal   pretend    though  \n",
       "0  0.000000        0.0  0.000000  0.129398  0.129398  \n",
       "1  0.000000        0.0  0.000000  0.000000  0.000000  \n",
       "2  0.245148        0.0  0.245148  0.000000  0.000000  "
      ]
     },
     "execution_count": 347,
     "metadata": {},
     "output_type": "execute_result"
    }
   ],
   "source": [
    "#Affichage de la matrice\n",
    "pd.DataFrame([TF_IDF_TEXTE_1,TF_IDF_TEXTE_2,TF_IDF_TEXTE_3])"
   ]
  },
  {
   "cell_type": "code",
   "execution_count": 348,
   "metadata": {},
   "outputs": [],
   "source": [
    "#TEXTE1 = \"Maths is his her their life ! Hail maths, though Mr.Leroux only pretends to like them. \"\n",
    "#TEXTE2 = \"Mr.Leroux liked maths , but then the incident happened. \"\n",
    "#TEXTE3= \"Who's better at mathematics ? Mr.Leroux or Mr.Vidal ? \""
   ]
  },
  {
   "cell_type": "code",
   "execution_count": null,
   "metadata": {},
   "outputs": [],
   "source": []
  },
  {
   "cell_type": "code",
   "execution_count": null,
   "metadata": {},
   "outputs": [],
   "source": []
  },
  {
   "cell_type": "code",
   "execution_count": null,
   "metadata": {},
   "outputs": [],
   "source": []
  },
  {
   "cell_type": "code",
   "execution_count": null,
   "metadata": {},
   "outputs": [],
   "source": []
  }
 ],
 "metadata": {
  "kernelspec": {
   "display_name": "Python 3",
   "language": "python",
   "name": "python3"
  },
  "language_info": {
   "codemirror_mode": {
    "name": "ipython",
    "version": 3
   },
   "file_extension": ".py",
   "mimetype": "text/x-python",
   "name": "python",
   "nbconvert_exporter": "python",
   "pygments_lexer": "ipython3",
   "version": "3.6.5"
  }
 },
 "nbformat": 4,
 "nbformat_minor": 2
}
